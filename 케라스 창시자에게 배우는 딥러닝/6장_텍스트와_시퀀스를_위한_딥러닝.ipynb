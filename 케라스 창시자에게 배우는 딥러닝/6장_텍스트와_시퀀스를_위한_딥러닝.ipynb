{
  "nbformat": 4,
  "nbformat_minor": 0,
  "metadata": {
    "colab": {
      "name": "6장. 텍스트와 시퀀스를 위한 딥러닝.ipynb",
      "provenance": [],
      "collapsed_sections": []
    },
    "kernelspec": {
      "name": "python3",
      "display_name": "Python 3"
    },
    "accelerator": "GPU"
  },
  "cells": [
    {
      "cell_type": "markdown",
      "metadata": {
        "id": "PC1Z5qBt3Tc8"
      },
      "source": [
        "# 6장. 텍스트와 시퀀스를 위한 딥러닝\r\n",
        "텍스트, 시계열, 시퀀스 데이터를 처리하는 딥러닝 모델  \r\n",
        "- 순환 신경망\r\n",
        "- 1D 컨브넷\r\n",
        "> 2D 컨브넷의 1차원 버전"
      ]
    },
    {
      "cell_type": "markdown",
      "metadata": {
        "id": "zLJR6alh3k6Z"
      },
      "source": [
        "## 6.1 텍스트 데이터 다루기\r\n",
        "텍스트는 가장 흔한 시퀀스 형태의 데이터  \r\n",
        "단어 수준으로 작업을 많이 함  \r\n",
        "\r\n",
        "다음과 같은 문제에서 진행\r\n",
        "- 문서 분류\r\n",
        "- 감성 분석\r\n",
        "- 저자 식별\r\n",
        "- 제한된 범위의 질문 응답\r\n",
        "\r\n",
        "딥러닝 모델은 수치형 텐서만 다루기 때문에  \r\n",
        "텍스트를 수치형 텐서로 변환  \r\n",
        "**텍스트 벡터화**  \r\n",
        "- 텍스트를 단어로 나누고 각 단어를 하나의 벡터로 변환\r\n",
        "- 텍스트를 문자로 나누고 각 문자를 하나의 벡터로 변환\r\n",
        "- 텍스트에서 단어나 문자의 **n-그램**을 추출하여 n-그램을 하나의 벡터로 변환\r\n",
        "> n-그램, 연속된 단어나 문자의 그룹\r\n",
        "\r\n",
        "텍스트를 이런 단위로 나눈 것을 **토큰**이라 하며,  \r\n",
        "토큰으로 나누는 작업을 **토큰화**라고 한다.\r\n",
        "\r\n",
        "텍스트의 토큰화는 그저 단어들을 규칙에 따라 나눴을 뿐  \r\n",
        "이를 벡터화 해야 할 필요가 있음  \r\n",
        "- 원-핫 인코딩\r\n",
        "- 단어 임베딩\r\n",
        "\r\n",
        "\r\n"
      ]
    },
    {
      "cell_type": "markdown",
      "metadata": {
        "id": "kmcXeLnTAENG"
      },
      "source": [
        "### 단어와 문자의 원-핫 인코딩"
      ]
    },
    {
      "cell_type": "code",
      "metadata": {
        "id": "SYrN838t3BOn"
      },
      "source": [
        "# 단어 수준의 원-핫 인코딩하기(간단한 예)\r\n",
        "import numpy as np\r\n",
        "\r\n",
        "samples = ['The cat sat on the mat.', 'The dog ate my homework.']\r\n",
        "\r\n",
        "token_index = {}\r\n",
        "for sample in samples:\r\n",
        "    for word in sample.split():\r\n",
        "        if word not in token_index:\r\n",
        "            token_index[word] = len(token_index) + 1\r\n",
        "\r\n",
        "max_length = 10\r\n",
        "\r\n",
        "results = np.zeros(shape = (len(samples),\r\n",
        "                            max_length,\r\n",
        "                            max(token_index.values()) + 1))\r\n",
        "\r\n",
        "for i, sample in enumerate(samples):\r\n",
        "    for j, word in list(enumerate(sample.split()))[:max_length]:\r\n",
        "        index = token_index.get(word)\r\n",
        "        results[i, j, index] = 1."
      ],
      "execution_count": null,
      "outputs": []
    },
    {
      "cell_type": "code",
      "metadata": {
        "id": "gyGmo15fJoma"
      },
      "source": [
        "# 문자 수준 원-핫 인코딩하기(간단한 예)\r\n",
        "import string\r\n",
        "\r\n",
        "samples = ['The cat sat on the mat.', 'The dog ate my homework.']\r\n",
        "characters = string.printable\r\n",
        "token_index = dict(zip(characters, range(1, len(characters) + 1)))\r\n",
        "\r\n",
        "max_length = 50\r\n",
        "results = np.zeros((len(samples), \r\n",
        "                    max_length,\r\n",
        "                    max(token_index.values()) + 1))\r\n",
        "for i, sample in enumerate(samples):\r\n",
        "    for j, character in enumerate(sample):\r\n",
        "        index = token_index.get(character)\r\n",
        "        results[i, j, index] = 1."
      ],
      "execution_count": null,
      "outputs": []
    },
    {
      "cell_type": "code",
      "metadata": {
        "colab": {
          "base_uri": "https://localhost:8080/"
        },
        "id": "yd-55Q-O3TV6",
        "outputId": "80b21d60-c1dd-4ba8-b44a-14198207f9a8"
      },
      "source": [
        "# 케라스를 사용한 단어 수준의 원-핫 인코딩하기\r\n",
        "from keras.preprocessing.text import Tokenizer\r\n",
        "\r\n",
        "samples = ['The cat sat on the mat.', 'The dog ate my homework.']\r\n",
        "\r\n",
        "tokenizer = Tokenizer(num_words = 1000)\r\n",
        "tokenizer.fit_on_texts(samples)\r\n",
        "\r\n",
        "sequences = tokenizer.texts_to_sequences(samples)\r\n",
        "\r\n",
        "one_hot_results = tokenizer.texts_to_matrix(samples, mode = 'binary')\r\n",
        "\r\n",
        "word_index = tokenizer.word_index\r\n",
        "print('%s개의 고유한 토큰을 찾았습니다.'%len(word_index))"
      ],
      "execution_count": null,
      "outputs": [
        {
          "output_type": "stream",
          "text": [
            "9개의 고유한 토큰을 찾았습니다.\n"
          ],
          "name": "stdout"
        }
      ]
    },
    {
      "cell_type": "markdown",
      "metadata": {
        "id": "m03kP8YgROdB"
      },
      "source": [
        "원-핫 인코딩의 변종 중 하나는 **원-핫 해싱** 기법  \r\n",
        "이 방식은 어휘 사전에 있는 고유한 토큰의 수가 너무 커서 모두 다루기 힘들 때 사용   \r\n",
        "각 단어에 명시적으로 인덱스를 할당하고,  \r\n",
        "인덱스를 딕셔너리에 저장하는 대신에 단어를 해싱하여 고정된 크기의 벡터로 변환\r\n",
        "\r\n",
        "장점\r\n",
        "- 명시적 단어 인덱스가 필요 없어 메모리 절약 가능\r\n",
        "\r\n",
        "단점\r\n",
        "- 해시 충돌\r\n",
        "> 2개의 단어가 같은 해시를 만들면 머신 러닝 모델은 단어 사이의 차이를 알지 못함\r\n"
      ]
    },
    {
      "cell_type": "code",
      "metadata": {
        "id": "QCdx8iYKNuOd"
      },
      "source": [
        "# 해싱 기법을 사용한 단어 수준의 원-핫 인코딩하기(간단한 예)\r\n",
        "samples = ['The cat sat on the mat.', 'The dog ate my homework.']\r\n",
        "\r\n",
        "dimensionality = 1000\r\n",
        "max_length = 10\r\n",
        "\r\n",
        "results = np.zeros((len(samples),\r\n",
        "                    max_length,\r\n",
        "                    dimensionality))\r\n",
        "for i, sample in enumerate(samples):\r\n",
        "    for j, word in list(enumerate(sample))[:max_length]:\r\n",
        "        index = abs(hash(word)) % dimensionality\r\n",
        "        results[i, j, index] = 1."
      ],
      "execution_count": null,
      "outputs": []
    },
    {
      "cell_type": "markdown",
      "metadata": {
        "id": "1UQ6wzKHVuKs"
      },
      "source": [
        "### 단어 임베딩 사용하기\r\n",
        "**단어와 벡터를 연관 짓는 방법**  \r\n",
        "\r\n",
        "원-핫 인코딩의 경우 고차원이며, 대부분이 0으로 채워져 있고 수동으로 인코딩 함  \r\n",
        "단어 임베딩의 경우 저차원의 실수형 벡터이며, 데이터로 부터 학습을 함  \r\n",
        "\r\n",
        "단어 임베딩 방법\r\n",
        "- 관심 대상인 문제와 함께 단어 임베딩을 학습\r\n",
        "- 사전 훈련된 단어 임베딩\r\n",
        "\r\n"
      ]
    },
    {
      "cell_type": "markdown",
      "metadata": {
        "id": "ANnPyLLj2OAR"
      },
      "source": [
        "#### Embedding 층을 사용하여 단어 임베딩 학습하기\r\n",
        "\r\n",
        "단어와 밀집 벡터를 랜덤으로 매핑 시키면  \r\n",
        "비슷한 의미의 단어들이 서로 다른 임베딩을 갖게 됨  \r\n",
        "\r\n",
        "하지만 각 관계를 잘 나타내는 임베딩은 찾기 힘듦  \r\n",
        "문제의 목적과 분야에 따라서 단어 임베딩이 달라짐  \r\n",
        "즉, 자신의 목적과 분야에 맞게 새롭게 임베딩을 시켜줘야 함  \r\n",
        "\r\n",
        "역전파와 케라스를 활용해 Embedding 층의 가중치 학습으로 해결\r\n"
      ]
    },
    {
      "cell_type": "code",
      "metadata": {
        "id": "wDTzpV0d4J06"
      },
      "source": [
        "# Embedding 층의 객체 생성하기\r\n",
        "from keras.layers import Embedding\r\n",
        "\r\n",
        "embedding_layer = Embedding(1000, 64)"
      ],
      "execution_count": null,
      "outputs": []
    },
    {
      "cell_type": "markdown",
      "metadata": {
        "id": "1KYUR30Q4aXW"
      },
      "source": [
        "Embedding 층을 정수 인덱스를 밀집 벡터로 매핑하는 딕셔너리로 이해하는 것이 좋음  \r\n",
        "Embedding 층은 (samples, sequence_length)인 2D 정수 텐서를 입력 받아  \r\n",
        "(samples, sequence_length, embedding_dimensionality) 3D 실수형 텐서를 반환  \r\n",
        "\r\n"
      ]
    },
    {
      "cell_type": "code",
      "metadata": {
        "colab": {
          "base_uri": "https://localhost:8080/"
        },
        "id": "xpt5bDCfETr5",
        "outputId": "9bed085d-46df-474e-d9a7-f6c3fb998058"
      },
      "source": [
        "# Embedding 층에 사용할 IMDB 데이터 로드하기\r\n",
        "from keras.datasets import imdb\r\n",
        "from keras import preprocessing\r\n",
        "\r\n",
        "max_features = 10000\r\n",
        "maxlen = 20\r\n",
        "\r\n",
        "(x_train, y_train), (x_test, y_test) = imdb.load_data(num_words = max_features)\r\n",
        "\r\n",
        "x_train = preprocessing.sequence.pad_sequences(x_train, maxlen = maxlen)\r\n",
        "x_test = preprocessing.sequence.pad_sequences(x_test, maxlen = maxlen)"
      ],
      "execution_count": null,
      "outputs": [
        {
          "output_type": "stream",
          "text": [
            "<string>:6: VisibleDeprecationWarning: Creating an ndarray from ragged nested sequences (which is a list-or-tuple of lists-or-tuples-or ndarrays with different lengths or shapes) is deprecated. If you meant to do this, you must specify 'dtype=object' when creating the ndarray\n",
            "/usr/local/lib/python3.6/dist-packages/tensorflow/python/keras/datasets/imdb.py:159: VisibleDeprecationWarning: Creating an ndarray from ragged nested sequences (which is a list-or-tuple of lists-or-tuples-or ndarrays with different lengths or shapes) is deprecated. If you meant to do this, you must specify 'dtype=object' when creating the ndarray\n",
            "  x_train, y_train = np.array(xs[:idx]), np.array(labels[:idx])\n",
            "/usr/local/lib/python3.6/dist-packages/tensorflow/python/keras/datasets/imdb.py:160: VisibleDeprecationWarning: Creating an ndarray from ragged nested sequences (which is a list-or-tuple of lists-or-tuples-or ndarrays with different lengths or shapes) is deprecated. If you meant to do this, you must specify 'dtype=object' when creating the ndarray\n",
            "  x_test, y_test = np.array(xs[idx:]), np.array(labels[idx:])\n"
          ],
          "name": "stderr"
        }
      ]
    },
    {
      "cell_type": "code",
      "metadata": {
        "colab": {
          "base_uri": "https://localhost:8080/"
        },
        "id": "672cGpsuFClP",
        "outputId": "d8d88d4e-f7e5-4d33-cd4a-2d814aea94e5"
      },
      "source": [
        "# IMDB 데이터에 Embedding 층과 분류기 사용하기\r\n",
        "from keras.models import Sequential\r\n",
        "from keras.layers import Flatten, Dense, Embedding\r\n",
        "\r\n",
        "model = Sequential()\r\n",
        "model.add(Embedding(10000, 8, input_length = maxlen))\r\n",
        "\r\n",
        "model.add(Flatten())\r\n",
        "\r\n",
        "model.add(Dense(1, activation = 'sigmoid'))\r\n",
        "model.compile(optimizer = 'rmsprop',\r\n",
        "              loss = 'binary_crossentropy',\r\n",
        "              metrics = ['acc'])\r\n",
        "model.summary()\r\n",
        "\r\n",
        "history = model.fit(x_train,\r\n",
        "                    y_train,\r\n",
        "                    epochs = 10,\r\n",
        "                    batch_size = 32,\r\n",
        "                    validation_split = 0.2)"
      ],
      "execution_count": null,
      "outputs": [
        {
          "output_type": "stream",
          "text": [
            "Model: \"sequential_1\"\n",
            "_________________________________________________________________\n",
            "Layer (type)                 Output Shape              Param #   \n",
            "=================================================================\n",
            "embedding_2 (Embedding)      (None, 20, 8)             80000     \n",
            "_________________________________________________________________\n",
            "flatten_1 (Flatten)          (None, 160)               0         \n",
            "_________________________________________________________________\n",
            "dense_1 (Dense)              (None, 1)                 161       \n",
            "=================================================================\n",
            "Total params: 80,161\n",
            "Trainable params: 80,161\n",
            "Non-trainable params: 0\n",
            "_________________________________________________________________\n",
            "Epoch 1/10\n",
            "625/625 [==============================] - 2s 2ms/step - loss: 0.6872 - acc: 0.5514 - val_loss: 0.6304 - val_acc: 0.6962\n",
            "Epoch 2/10\n",
            "625/625 [==============================] - 1s 2ms/step - loss: 0.5782 - acc: 0.7500 - val_loss: 0.5298 - val_acc: 0.7288\n",
            "Epoch 3/10\n",
            "625/625 [==============================] - 1s 1ms/step - loss: 0.4716 - acc: 0.7836 - val_loss: 0.5017 - val_acc: 0.7426\n",
            "Epoch 4/10\n",
            "625/625 [==============================] - 1s 1ms/step - loss: 0.4230 - acc: 0.8082 - val_loss: 0.4929 - val_acc: 0.7506\n",
            "Epoch 5/10\n",
            "625/625 [==============================] - 1s 1ms/step - loss: 0.3955 - acc: 0.8239 - val_loss: 0.4934 - val_acc: 0.7518\n",
            "Epoch 6/10\n",
            "625/625 [==============================] - 1s 1ms/step - loss: 0.3704 - acc: 0.8399 - val_loss: 0.4977 - val_acc: 0.7568\n",
            "Epoch 7/10\n",
            "625/625 [==============================] - 1s 1ms/step - loss: 0.3530 - acc: 0.8508 - val_loss: 0.5047 - val_acc: 0.7538\n",
            "Epoch 8/10\n",
            "625/625 [==============================] - 1s 2ms/step - loss: 0.3261 - acc: 0.8657 - val_loss: 0.5104 - val_acc: 0.7532\n",
            "Epoch 9/10\n",
            "625/625 [==============================] - 1s 1ms/step - loss: 0.3108 - acc: 0.8708 - val_loss: 0.5180 - val_acc: 0.7552\n",
            "Epoch 10/10\n",
            "625/625 [==============================] - 1s 1ms/step - loss: 0.3005 - acc: 0.8784 - val_loss: 0.5264 - val_acc: 0.7534\n"
          ],
          "name": "stdout"
        }
      ]
    },
    {
      "cell_type": "code",
      "metadata": {
        "colab": {
          "base_uri": "https://localhost:8080/",
          "height": 532
        },
        "id": "8ZJGqoNQGW77",
        "outputId": "1ad61ed3-65a7-4ae3-ad9e-9cacd6f181ac"
      },
      "source": [
        "import matplotlib.pyplot as plt\r\n",
        "\r\n",
        "acc = history.history['acc']\r\n",
        "val_acc = history.history['val_acc']\r\n",
        "loss = history.history['loss']\r\n",
        "val_loss = history.history['val_loss']\r\n",
        "\r\n",
        "epochs = range(1, len(acc) + 1)\r\n",
        "\r\n",
        "plt.plot(epochs, acc, 'bo', label = 'Training accuracy')\r\n",
        "plt.plot(epochs, val_acc, 'b', label = 'Validation accuracy')\r\n",
        "plt.legend()\r\n",
        "plt.figure()\r\n",
        "\r\n",
        "plt.plot(epochs, loss, 'bo', label = 'Training loss')\r\n",
        "plt.plot(epochs, val_loss, 'b', label = 'Validation loss')\r\n",
        "plt.legend()"
      ],
      "execution_count": null,
      "outputs": [
        {
          "output_type": "execute_result",
          "data": {
            "text/plain": [
              "<matplotlib.legend.Legend at 0x7fbf7141f6d8>"
            ]
          },
          "metadata": {
            "tags": []
          },
          "execution_count": 10
        },
        {
          "output_type": "display_data",
          "data": {
            "image/png": "[encoded data removed]",
            "text/plain": [
              "<Figure size 432x288 with 1 Axes>"
            ]
          },
          "metadata": {
            "tags": [],
            "needs_background": "light"
          }
        },
        {
          "output_type": "display_data",
          "data": {
            "image/png": "[encoded data removed]",
            "text/plain": [
              "<Figure size 432x288 with 1 Axes>"
            ]
          },
          "metadata": {
            "tags": [],
            "needs_background": "light"
          }
        }
      ]
    },
    {
      "cell_type": "markdown",
      "metadata": {
        "id": "ENLSZ4kcGW3o"
      },
      "source": [
        "검증 정확도는 약 75%  \r\n",
        "하지만, 이 경우 임베딩 시퀀스를 펼치고 하나의 Dense 층을 훈련  \r\n",
        "입력 시퀀스에 있는 각 단어를 독립적으로 다룸"
      ]
    },
    {
      "cell_type": "markdown",
      "metadata": {
        "id": "32Xsj8kbGQ25"
      },
      "source": [
        "#### 사전 훈련된 단어 임베딩 사용하기\r\n",
        "훈련 데이터가 부족해 작업에 맞는 단어 임베딩을 학습 할 수 없을 때 사용\r\n",
        "\r\n",
        "사용할 알고리즘 [**GloVe**](http://mng.bz/0tIo)  \r\n",
        "- 단어의 동시 출현 통계를 기록한 행렬을 분해하는 기법 사용\r\n",
        "\r\n",
        "\r\n"
      ]
    },
    {
      "cell_type": "markdown",
      "metadata": {
        "id": "6Ial25CdJ8MV"
      },
      "source": [
        "### 모든 내용을 적용하기: 원본 텍스트에서 단어 임베딩까지"
      ]
    },
    {
      "cell_type": "markdown",
      "metadata": {
        "id": "kX-O8rDUOxaz"
      },
      "source": [
        "#### 원본 IMDB 텍스트 내려받기\r\n"
      ]
    },
    {
      "cell_type": "code",
      "metadata": {
        "id": "speFpLWeKEvH",
        "colab": {
          "base_uri": "https://localhost:8080/"
        },
        "outputId": "aeeb76e3-2c2a-46cc-e30e-dbbcb3196265"
      },
      "source": [
        "from google.colab import drive \r\n",
        "drive.mount('/content/gdrive/')"
      ],
      "execution_count": null,
      "outputs": [
        {
          "output_type": "stream",
          "text": [
            "Mounted at /content/gdrive/\n"
          ],
          "name": "stdout"
        }
      ]
    },
    {
      "cell_type": "code",
      "metadata": {
        "colab": {
          "base_uri": "https://localhost:8080/"
        },
        "id": "Tp4ig_MpK0rE",
        "outputId": "ce0b5a8f-cd91-41cf-efb4-959ebe0f6b09"
      },
      "source": [
        "%cd /content/gdrive/MyDrive/datasets/"
      ],
      "execution_count": null,
      "outputs": [
        {
          "output_type": "stream",
          "text": [
            "/content/gdrive/MyDrive/datasets\n"
          ],
          "name": "stdout"
        }
      ]
    },
    {
      "cell_type": "code",
      "metadata": {
        "id": "y403pPOllj7h"
      },
      "source": [
        "!unzip -q aclImdb.zip"
      ],
      "execution_count": null,
      "outputs": []
    },
    {
      "cell_type": "code",
      "metadata": {
        "id": "V4FR1dgkKANF"
      },
      "source": [
        "# IMDB 원본 데이터 전처리하기\r\n",
        "import os\r\n",
        "\r\n",
        "imdb_dir = './aclImdb'\r\n",
        "train_dir = os.path.join(imdb_dir, 'train')\r\n",
        "\r\n",
        "labels = []\r\n",
        "texts = []\r\n",
        "\r\n",
        "for label_type in ['neg', 'pos']:\r\n",
        "    dir_name = os.path.join(train_dir, label_type)\r\n",
        "    for fname in os.listdir(dir_name):\r\n",
        "        if fname[-4:] == '.txt':\r\n",
        "            f = open(os.path.join(dir_name, fname), encoding = 'utf-8')\r\n",
        "            texts.append(f.read())\r\n",
        "            f.close()\r\n",
        "            if label_type == 'neg':\r\n",
        "                labels.append(0)\r\n",
        "            else:\r\n",
        "                labels.append(1)"
      ],
      "execution_count": null,
      "outputs": []
    },
    {
      "cell_type": "markdown",
      "metadata": {
        "id": "NPOVvxVhJ_hu"
      },
      "source": [
        "#### 데이터 토큰화\r\n"
      ]
    },
    {
      "cell_type": "code",
      "metadata": {
        "colab": {
          "base_uri": "https://localhost:8080/"
        },
        "id": "YW_sDfPCSgRx",
        "outputId": "c5daf7a3-2397-4526-8240-4c191bb80d22"
      },
      "source": [
        "# IMDB 원본 데이터의 텍스트를 토큰화하기\r\n",
        "from keras.preprocessing.text import Tokenizer\r\n",
        "from keras.preprocessing.sequence import pad_sequences\r\n",
        "import numpy as np\r\n",
        "\r\n",
        "maxlen = 100\r\n",
        "training_samples = 200\r\n",
        "validation_samples = 10000\r\n",
        "max_words = 10000\r\n",
        "\r\n",
        "tokenizer = Tokenizer(num_words = max_words)\r\n",
        "tokenizer.fit_on_texts(texts)\r\n",
        "sequences = tokenizer.texts_to_sequences(texts)\r\n",
        "\r\n",
        "word_index = tokenizer.word_index\r\n",
        "print('%s개의 고유한 토큰을 찾았습니다.'%len(word_index))\r\n",
        "\r\n",
        "data = pad_sequences(sequences, maxlen = maxlen)\r\n",
        "labels = np.asarray(labels)\r\n",
        "print('데이터 텐서의 크기:', data.shape)\r\n",
        "print('레이블 텐서의 크기:', labels.shape)\r\n",
        "\r\n",
        "indices = np.arange(data.shape[0])\r\n",
        "np.random.shuffle(indices)\r\n",
        "data = data[indices]\r\n",
        "labels = labels[indices]\r\n",
        "\r\n",
        "x_train = data[:training_samples]\r\n",
        "y_train = labels[:training_samples]\r\n",
        "x_val = data[training_samples:training_samples + validation_samples]\r\n",
        "y_val = labels[training_samples:training_samples + validation_samples]"
      ],
      "execution_count": null,
      "outputs": [
        {
          "output_type": "stream",
          "text": [
            "88582개의 고유한 토큰을 찾았습니다.\n",
            "데이터 텐서의 크기: (25000, 100)\n",
            "레이블 텐서의 크기: (25000,)\n"
          ],
          "name": "stdout"
        }
      ]
    },
    {
      "cell_type": "markdown",
      "metadata": {
        "id": "enORrMClVM9c"
      },
      "source": [
        "#### GloVe 단어 임베딩 내려받기\r\n"
      ]
    },
    {
      "cell_type": "code",
      "metadata": {
        "colab": {
          "base_uri": "https://localhost:8080/"
        },
        "id": "ZN172T7WVoHe",
        "outputId": "c3c5c3d5-270b-4aa8-bb1c-86373fff3b14"
      },
      "source": [
        "!wget http://nlp.stanford.edu/data/glove.6B.zip"
      ],
      "execution_count": null,
      "outputs": [
        {
          "output_type": "stream",
          "text": [
            "--2020-12-30 11:20:54--  http://nlp.stanford.edu/data/glove.6B.zip\n",
            "Resolving nlp.stanford.edu (nlp.stanford.edu)... 171.64.67.140\n",
            "Connecting to nlp.stanford.edu (nlp.stanford.edu)|171.64.67.140|:80... connected.\n",
            "HTTP request sent, awaiting response... 302 Found\n",
            "Location: https://nlp.stanford.edu/data/glove.6B.zip [following]\n",
            "--2020-12-30 11:20:54--  https://nlp.stanford.edu/data/glove.6B.zip\n",
            "Connecting to nlp.stanford.edu (nlp.stanford.edu)|171.64.67.140|:443... connected.\n",
            "HTTP request sent, awaiting response... 301 Moved Permanently\n",
            "Location: http://downloads.cs.stanford.edu/nlp/data/glove.6B.zip [following]\n",
            "--2020-12-30 11:20:54--  http://downloads.cs.stanford.edu/nlp/data/glove.6B.zip\n",
            "Resolving downloads.cs.stanford.edu (downloads.cs.stanford.edu)... 171.64.64.22\n",
            "Connecting to downloads.cs.stanford.edu (downloads.cs.stanford.edu)|171.64.64.22|:80... connected.\n",
            "HTTP request sent, awaiting response... 200 OK\n",
            "Length: 862182613 (822M) [application/zip]\n",
            "Saving to: ‘glove.6B.zip’\n",
            "\n",
            "glove.6B.zip        100%[===================>] 822.24M  2.04MB/s    in 6m 28s  \n",
            "\n",
            "2020-12-30 11:27:22 (2.12 MB/s) - ‘glove.6B.zip’ saved [862182613/862182613]\n",
            "\n"
          ],
          "name": "stdout"
        }
      ]
    },
    {
      "cell_type": "code",
      "metadata": {
        "id": "goAIIhofVrNY"
      },
      "source": [
        "!unzip -qq glove.6B.zip"
      ],
      "execution_count": null,
      "outputs": []
    },
    {
      "cell_type": "markdown",
      "metadata": {
        "id": "H0IISvEDVyaG"
      },
      "source": [
        "##### 임베딩 전처리\r\n"
      ]
    },
    {
      "cell_type": "code",
      "metadata": {
        "colab": {
          "base_uri": "https://localhost:8080/"
        },
        "id": "mlsmRETAVMrS",
        "outputId": "02e70797-d021-46f1-e806-60f5f405b689"
      },
      "source": [
        "# GloVe 단어 임베딩 파일 파싱하기\r\n",
        "embeddings_index = {}\r\n",
        "f = open('glove.6B.100d.txt', encoding = 'utf-8')\r\n",
        "for line in f:\r\n",
        "    values = line.split()\r\n",
        "    word = values[0]\r\n",
        "    coefs = np.asarray(values[1:], dtype = 'float32')\r\n",
        "    embeddings_index[word] = coefs\r\n",
        "f.close()\r\n",
        "\r\n",
        "print('%s개의 단어 벡터를 찾았습니다.'%len(embeddings_index))"
      ],
      "execution_count": null,
      "outputs": [
        {
          "output_type": "stream",
          "text": [
            "400000개의 단어 벡터를 찾았습니다.\n"
          ],
          "name": "stdout"
        }
      ]
    },
    {
      "cell_type": "code",
      "metadata": {
        "id": "xG7pr5nAb0m6"
      },
      "source": [
        "# GloVe 단어 임베딩 행렬 준비하기\r\n",
        "embedding_dim = 100\r\n",
        "\r\n",
        "embedding_matrix = np.zeros((max_words, embedding_dim))\r\n",
        "for word, i in word_index.items():\r\n",
        "    if i < max_words:\r\n",
        "        embedding_vector = embeddings_index.get(word)\r\n",
        "        if embedding_vector is not None:\r\n",
        "            embedding_matrix[i] = embedding_vector"
      ],
      "execution_count": null,
      "outputs": []
    },
    {
      "cell_type": "markdown",
      "metadata": {
        "id": "clGFpBNtdd7Z"
      },
      "source": [
        "이때, 인베딩 인덱스에 없는 단어는 모두 0이 됨"
      ]
    },
    {
      "cell_type": "markdown",
      "metadata": {
        "id": "nDwtuW4fb0dF"
      },
      "source": [
        "#### 모델 정의하기\r\n"
      ]
    },
    {
      "cell_type": "code",
      "metadata": {
        "colab": {
          "base_uri": "https://localhost:8080/"
        },
        "id": "rsz9W4u5dYKD",
        "outputId": "6c9ffa30-caa8-4005-a1e6-a6ca40a09706"
      },
      "source": [
        "# 모델 정의하기\r\n",
        "from keras.models import Sequential\r\n",
        "from keras.layers import Flatten, Dense, Embedding\r\n",
        "\r\n",
        "model = Sequential()\r\n",
        "model.add(Embedding(max_words, embedding_dim, input_length = maxlen))\r\n",
        "model.add(Flatten())\r\n",
        "model.add(Dense(32, activation = 'relu'))\r\n",
        "model.add(Dense(1, activation = 'sigmoid'))\r\n",
        "model.summary()"
      ],
      "execution_count": null,
      "outputs": [
        {
          "output_type": "stream",
          "text": [
            "Model: \"sequential\"\n",
            "_________________________________________________________________\n",
            "Layer (type)                 Output Shape              Param #   \n",
            "=================================================================\n",
            "embedding (Embedding)        (None, 100, 100)          1000000   \n",
            "_________________________________________________________________\n",
            "flatten (Flatten)            (None, 10000)             0         \n",
            "_________________________________________________________________\n",
            "dense (Dense)                (None, 32)                320032    \n",
            "_________________________________________________________________\n",
            "dense_1 (Dense)              (None, 1)                 33        \n",
            "=================================================================\n",
            "Total params: 1,320,065\n",
            "Trainable params: 1,320,065\n",
            "Non-trainable params: 0\n",
            "_________________________________________________________________\n"
          ],
          "name": "stdout"
        }
      ]
    },
    {
      "cell_type": "markdown",
      "metadata": {
        "id": "3CBurYcAeJbD"
      },
      "source": [
        "#### 모델에 GloVe 임베딩 로드하기\r\n",
        "\r\n",
        "Embedding 층은 하나의 가중치 행렬을 가짐  \r\n",
        "이 행렬은 2D 부동 소수 행렬이며,  \r\n",
        "각 i 번째 원소는 i 번째 인덱스에 상응하는 단어 벡터"
      ]
    },
    {
      "cell_type": "code",
      "metadata": {
        "id": "kWM-GtcQeiaO"
      },
      "source": [
        "# 사전 훈련된 단어 임베딩을 Embedding 층에 로드하기\r\n",
        "model.layers[0].set_weights([embedding_matrix])\r\n",
        "model.layers[0].trainable = False"
      ],
      "execution_count": null,
      "outputs": []
    },
    {
      "cell_type": "markdown",
      "metadata": {
        "id": "DLvi56e1fHf1"
      },
      "source": [
        "Embedding 층을 동결함\r\n",
        "- 모델 일부는 사전 훈련되고 다른 부분은 랜덤하게 초기화 하기 위함\r\n"
      ]
    },
    {
      "cell_type": "markdown",
      "metadata": {
        "id": "RuO03cb8fXcV"
      },
      "source": [
        "#### 모델 훈련과 평가"
      ]
    },
    {
      "cell_type": "code",
      "metadata": {
        "colab": {
          "base_uri": "https://localhost:8080/"
        },
        "id": "MaJp5ZPDfaFm",
        "outputId": "fe81ab57-7279-4bbe-9eb7-ac3f0a38c4f4"
      },
      "source": [
        "# 훈련과 평가하기\r\n",
        "model.compile(optimizer = 'rmsprop',\r\n",
        "              loss = 'binary_crossentropy',\r\n",
        "              metrics = ['acc'])\r\n",
        "history = model.fit(x_train, y_train,\r\n",
        "                    epochs = 10,\r\n",
        "                    batch_size = 32,\r\n",
        "                    validation_data = (x_val, y_val))\r\n",
        "model.save_weights('pre_trained_glove_model.h5')"
      ],
      "execution_count": null,
      "outputs": [
        {
          "output_type": "stream",
          "text": [
            "Epoch 1/10\n",
            "7/7 [==============================] - 2s 161ms/step - loss: 1.1712 - acc: 0.5169 - val_loss: 0.7331 - val_acc: 0.5168\n",
            "Epoch 2/10\n",
            "7/7 [==============================] - 1s 99ms/step - loss: 0.6239 - acc: 0.6823 - val_loss: 0.6960 - val_acc: 0.5505\n",
            "Epoch 3/10\n",
            "7/7 [==============================] - 1s 99ms/step - loss: 0.3304 - acc: 0.9455 - val_loss: 0.9303 - val_acc: 0.5068\n",
            "Epoch 4/10\n",
            "7/7 [==============================] - 1s 92ms/step - loss: 0.3058 - acc: 0.8497 - val_loss: 1.1850 - val_acc: 0.4999\n",
            "Epoch 5/10\n",
            "7/7 [==============================] - 1s 99ms/step - loss: 0.2806 - acc: 0.8888 - val_loss: 0.7976 - val_acc: 0.5241\n",
            "Epoch 6/10\n",
            "7/7 [==============================] - 1s 91ms/step - loss: 0.1406 - acc: 1.0000 - val_loss: 0.7709 - val_acc: 0.5463\n",
            "Epoch 7/10\n",
            "7/7 [==============================] - 1s 92ms/step - loss: 0.1252 - acc: 1.0000 - val_loss: 0.7833 - val_acc: 0.5482\n",
            "Epoch 8/10\n",
            "7/7 [==============================] - 1s 96ms/step - loss: 0.1566 - acc: 0.9528 - val_loss: 0.7560 - val_acc: 0.5567\n",
            "Epoch 9/10\n",
            "7/7 [==============================] - 1s 90ms/step - loss: 0.0483 - acc: 1.0000 - val_loss: 0.7457 - val_acc: 0.5720\n",
            "Epoch 10/10\n",
            "7/7 [==============================] - 1s 95ms/step - loss: 0.0531 - acc: 1.0000 - val_loss: 0.7981 - val_acc: 0.5558\n"
          ],
          "name": "stdout"
        }
      ]
    },
    {
      "cell_type": "code",
      "metadata": {
        "colab": {
          "base_uri": "https://localhost:8080/",
          "height": 564
        },
        "id": "iRPjoQ5s1Qk_",
        "outputId": "dc4d101c-8c7d-4f11-b64f-0afb301f90fc"
      },
      "source": [
        "# 결과 그래프 그리기\r\n",
        "import matplotlib.pyplot as plt\r\n",
        "\r\n",
        "acc = history.history['acc']\r\n",
        "val_acc = history.history['val_acc']\r\n",
        "loss = history.history['loss']\r\n",
        "val_loss = history.history['val_loss']\r\n",
        "\r\n",
        "epochs = range(1, len(acc) + 1)\r\n",
        "\r\n",
        "plt.plot(epochs, acc, 'bo', label = \"Training acc\")\r\n",
        "plt.plot(epochs, val_acc, 'b', label = \"Validation acc\")\r\n",
        "plt.title(\"Training and validation accuracy\")\r\n",
        "plt.legend()\r\n",
        "plt.figure()\r\n",
        "\r\n",
        "\r\n",
        "plt.plot(epochs, loss, 'bo', label = \"Training loss\")\r\n",
        "plt.plot(epochs, val_loss, 'b', label = \"Validation loss\")\r\n",
        "plt.title(\"Training and validation loss\")\r\n",
        "plt.legend()"
      ],
      "execution_count": null,
      "outputs": [
        {
          "output_type": "execute_result",
          "data": {
            "text/plain": [
              "<matplotlib.legend.Legend at 0x7f7d217735c0>"
            ]
          },
          "metadata": {
            "tags": []
          },
          "execution_count": 12
        },
        {
          "output_type": "display_data",
          "data": {
            "image/png": "[encoded data removed]",
            "text/plain": [
              "<Figure size 432x288 with 1 Axes>"
            ]
          },
          "metadata": {
            "tags": [],
            "needs_background": "light"
          }
        },
        {
          "output_type": "display_data",
          "data": {
            "image/png": "[encoded data removed]",
            "text/plain": [
              "<Figure size 432x288 with 1 Axes>"
            ]
          },
          "metadata": {
            "tags": [],
            "needs_background": "light"
          }
        }
      ]
    },
    {
      "cell_type": "markdown",
      "metadata": {
        "id": "l8MuBTuo1-G1"
      },
      "source": [
        "모델이 단시간에 과대적합이 이뤄졌음을 확인 할 수 있음  \r\n",
        "\r\n",
        "이와 같이 빠르게 과대적합이 이뤄지면  \r\n",
        "사전 훈련된 단어 임베딩을 사용하지 않거나  \r\n",
        "임베딩 층을 동결하지 않고 같은 모델을 훈련 시키는 방법을 사용  \r\n"
      ]
    },
    {
      "cell_type": "code",
      "metadata": {
        "colab": {
          "base_uri": "https://localhost:8080/"
        },
        "id": "8gvp5tQW2Y1L",
        "outputId": "5d426e0a-9666-486d-8362-a43a4c2575fb"
      },
      "source": [
        "# 사전 훈련된 단어 임베딩을 사용하지 않고 같은 모델 훈련하기\r\n",
        "from keras.models import Sequential\r\n",
        "from keras.layers import Embedding, Flatten, Dense\r\n",
        "\r\n",
        "model = Sequential()\r\n",
        "model.add(Embedding(max_words, embedding_dim, input_length = maxlen))\r\n",
        "model.add(Flatten())\r\n",
        "model.add(Dense(32, activation = 'relu'))\r\n",
        "model.add(Dense(1, activation = 'sigmoid'))\r\n",
        "model.summary()"
      ],
      "execution_count": null,
      "outputs": [
        {
          "output_type": "stream",
          "text": [
            "Model: \"sequential_1\"\n",
            "_________________________________________________________________\n",
            "Layer (type)                 Output Shape              Param #   \n",
            "=================================================================\n",
            "embedding_1 (Embedding)      (None, 100, 100)          1000000   \n",
            "_________________________________________________________________\n",
            "flatten_1 (Flatten)          (None, 10000)             0         \n",
            "_________________________________________________________________\n",
            "dense_2 (Dense)              (None, 32)                320032    \n",
            "_________________________________________________________________\n",
            "dense_3 (Dense)              (None, 1)                 33        \n",
            "=================================================================\n",
            "Total params: 1,320,065\n",
            "Trainable params: 1,320,065\n",
            "Non-trainable params: 0\n",
            "_________________________________________________________________\n"
          ],
          "name": "stdout"
        }
      ]
    },
    {
      "cell_type": "code",
      "metadata": {
        "colab": {
          "base_uri": "https://localhost:8080/"
        },
        "id": "_AJUPhfa3QG2",
        "outputId": "65dcf536-3720-4839-8a4b-67b837120cbf"
      },
      "source": [
        "model.compile(optimizer = 'rmsprop',\r\n",
        "              loss = 'binary_crossentropy',\r\n",
        "              metrics = ['acc'])\r\n",
        "history = model.fit(x_train,\r\n",
        "                    y_train,\r\n",
        "                    epochs = 10,\r\n",
        "                    batch_size = 32,\r\n",
        "                    validation_data = (x_val, y_val))"
      ],
      "execution_count": null,
      "outputs": [
        {
          "output_type": "stream",
          "text": [
            "Epoch 1/10\n",
            "7/7 [==============================] - 1s 136ms/step - loss: 0.6965 - acc: 0.5265 - val_loss: 0.6928 - val_acc: 0.5042\n",
            "Epoch 2/10\n",
            "7/7 [==============================] - 1s 100ms/step - loss: 0.5333 - acc: 0.9888 - val_loss: 0.6992 - val_acc: 0.5059\n",
            "Epoch 3/10\n",
            "7/7 [==============================] - 1s 108ms/step - loss: 0.3616 - acc: 0.9950 - val_loss: 0.7576 - val_acc: 0.5027\n",
            "Epoch 4/10\n",
            "7/7 [==============================] - 1s 107ms/step - loss: 0.2048 - acc: 0.9823 - val_loss: 0.7359 - val_acc: 0.5027\n",
            "Epoch 5/10\n",
            "7/7 [==============================] - 1s 105ms/step - loss: 0.1122 - acc: 1.0000 - val_loss: 0.7313 - val_acc: 0.5148\n",
            "Epoch 6/10\n",
            "7/7 [==============================] - 1s 104ms/step - loss: 0.0545 - acc: 1.0000 - val_loss: 0.7113 - val_acc: 0.5195\n",
            "Epoch 7/10\n",
            "7/7 [==============================] - 1s 100ms/step - loss: 0.0314 - acc: 1.0000 - val_loss: 0.7255 - val_acc: 0.5186\n",
            "Epoch 8/10\n",
            "7/7 [==============================] - 1s 107ms/step - loss: 0.0169 - acc: 1.0000 - val_loss: 0.7467 - val_acc: 0.5157\n",
            "Epoch 9/10\n",
            "7/7 [==============================] - 1s 103ms/step - loss: 0.0106 - acc: 1.0000 - val_loss: 0.7341 - val_acc: 0.5197\n",
            "Epoch 10/10\n",
            "7/7 [==============================] - 1s 100ms/step - loss: 0.0055 - acc: 1.0000 - val_loss: 0.7593 - val_acc: 0.5185\n"
          ],
          "name": "stdout"
        }
      ]
    },
    {
      "cell_type": "code",
      "metadata": {
        "colab": {
          "base_uri": "https://localhost:8080/",
          "height": 564
        },
        "id": "nRvcxB433myk",
        "outputId": "2a84b9fe-c435-4b3d-ce0c-ae2e0edbb47c"
      },
      "source": [
        "acc = history.history['acc']\r\n",
        "val_acc = history.history['val_acc']\r\n",
        "loss = history.history['loss']\r\n",
        "val_loss = history.history['val_loss']\r\n",
        "\r\n",
        "epochs = range(1, len(acc) + 1)\r\n",
        "\r\n",
        "plt.plot(epochs, acc, 'bo', label = \"Training acc\")\r\n",
        "plt.plot(epochs, val_acc, 'b', label = \"Validation acc\")\r\n",
        "plt.title(\"Training and validation accuracy\")\r\n",
        "plt.legend()\r\n",
        "plt.figure()\r\n",
        "\r\n",
        "\r\n",
        "plt.plot(epochs, loss, 'bo', label = \"Training loss\")\r\n",
        "plt.plot(epochs, val_loss, 'b', label = \"Validation loss\")\r\n",
        "plt.title(\"Training and validation loss\")\r\n",
        "plt.legend()"
      ],
      "execution_count": null,
      "outputs": [
        {
          "output_type": "execute_result",
          "data": {
            "text/plain": [
              "<matplotlib.legend.Legend at 0x7f7d200080b8>"
            ]
          },
          "metadata": {
            "tags": []
          },
          "execution_count": 15
        },
        {
          "output_type": "display_data",
          "data": {
            "image/png": "[encoded data removed]",
            "text/plain": [
              "<Figure size 432x288 with 1 Axes>"
            ]
          },
          "metadata": {
            "tags": [],
            "needs_background": "light"
          }
        },
        {
          "output_type": "display_data",
          "data": {
            "image/png": "[encoded data removed]",
            "text/plain": [
              "<Figure size 432x288 with 1 Axes>"
            ]
          },
          "metadata": {
            "tags": [],
            "needs_background": "light"
          }
        }
      ]
    },
    {
      "cell_type": "markdown",
      "metadata": {
        "id": "r90EsjZi31do"
      },
      "source": [
        "사전 훈련된 임베딩을 사용 여부에 따라  \r\n",
        "그래프의 모양이 변화함  \r\n",
        "\r\n",
        "검증 데이터의 평균적인 정확도의 측면에서는 비슷하지만,  \r\n",
        "사전 훈련 모델을 사용했을 때 보다 안정적인 손실과 정확도를 나타냄  \r\n",
        "\r\n"
      ]
    },
    {
      "cell_type": "code",
      "metadata": {
        "id": "e8BWsG6O4QEh"
      },
      "source": [
        "# 테스트 데이터 토큰화하기\r\n",
        "test_dir = os.path.join(imdb_dir, 'test')\r\n",
        "\r\n",
        "labels = []\r\n",
        "texts = []\r\n",
        "\r\n",
        "for label_type in ['neg', 'pos']:\r\n",
        "    dir_name = os.path.join(test_dir, label_type)\r\n",
        "    for fname in sorted(os.listdir(dir_name)):\r\n",
        "        if fname[-4:] == '.txt':\r\n",
        "            f = open(os.path.join(dir_name, fname), encoding = 'utf-8')\r\n",
        "            texts.append(f.read())\r\n",
        "            f.close()\r\n",
        "            if label_type == 'neg':\r\n",
        "                labels.append(0)\r\n",
        "            else:\r\n",
        "                labels.append(1)\r\n",
        "\r\n",
        "sequences = tokenizer.texts_to_sequences(texts)\r\n",
        "x_test = pad_sequences(sequences, maxlen = maxlen)\r\n",
        "y_test = np.asarray(labels)"
      ],
      "execution_count": null,
      "outputs": []
    },
    {
      "cell_type": "code",
      "metadata": {
        "colab": {
          "base_uri": "https://localhost:8080/"
        },
        "id": "pSXrcfG55DNU",
        "outputId": "f4ee9280-b735-440d-b9d9-53e8eb05631c"
      },
      "source": [
        "# 테스트 세트에서 모델 평가하기\r\n",
        "model.load_weights('pre_trained_glove_model.h5')\r\n",
        "model.evaluate(x_test, y_test)"
      ],
      "execution_count": null,
      "outputs": [
        {
          "output_type": "stream",
          "text": [
            "782/782 [==============================] - 2s 2ms/step - loss: 0.8024 - acc: 0.5532\n"
          ],
          "name": "stdout"
        },
        {
          "output_type": "execute_result",
          "data": {
            "text/plain": [
              "[0.8023595809936523, 0.5531600117683411]"
            ]
          },
          "metadata": {
            "tags": []
          },
          "execution_count": 18
        }
      ]
    },
    {
      "cell_type": "markdown",
      "metadata": {
        "id": "JYAKXQJCqVJK"
      },
      "source": [
        "## 6.2 순환 신경망 이해하기\r\n",
        "완전 연결 네트워크와 컨브넷의 특징은 메모리가 없다는 것  \r\n",
        "입력에 대한 내용을 유지하지 않고 주입 될 때마다 처리함  \r\n",
        "시퀀스나 시계열 데이터를 다루기 위해선 전체 시퀀스를 주입해야만 함  \r\n",
        "이를 **피드포워드 네트워크** 라 함\r\n",
        "\r\n",
        "하지만, 사람은 이전의 내용 및 단어를 기억하며 문장을 읽음  \r\n",
        "이를 단순하게 만든 신경망이 **순환 신경망(RNN)**  \r\n",
        "시퀀스의 원소를 순회하며 지금까지 처리한 정보를 상태에 저장  \r\n",
        "\r\n",
        "RNN 작동 방식\r\n",
        "- RNN은 크기가 (timesteps, input_features)인 2D 텐서로 인코딩된 벡터의 시퀀스를 입력 받음  \r\n",
        "- 각 타임스텝 t에서 현재 상태와 ((input_features,) 크기의) 입력을 연결하여 출력\r\n",
        "- 위의 출력을 다음 스텝의 상태로 설정\r\n",
        "- 첫 번째 타임 스텝은 이전 출력이 정의 되지 않아서 초기 상태인 0벡터로 상태를 초기화\r\n",
        "\r\n"
      ]
    },
    {
      "cell_type": "code",
      "metadata": {
        "id": "jqnzVZI-tPK0"
      },
      "source": [
        "# 의사코드로 표현한 RNN\r\n",
        "state_t = 0\r\n",
        "for input_t in input_sequence:\r\n",
        "    output_t = f(input_t, state_t)\r\n",
        "    state_t = output_t"
      ],
      "execution_count": null,
      "outputs": []
    },
    {
      "cell_type": "code",
      "metadata": {
        "id": "CSNBV0Lztd8I"
      },
      "source": [
        "# 좀 더 자세한 의사코드로 표현한 RNN\r\n",
        "state_t = 0\r\n",
        "for input_t in input_sequence:\r\n",
        "    output_t = activation(dot(W, input_t) + dot(U, state_t) + b)\r\n",
        "    state_t = output_t"
      ],
      "execution_count": null,
      "outputs": []
    },
    {
      "cell_type": "code",
      "metadata": {
        "id": "gf36d5Wytvga"
      },
      "source": [
        "# 넘파이로 구현한 간단한 RNN\r\n",
        "import numpy as np\r\n",
        "\r\n",
        "timesteps = 100\r\n",
        "input_features = 32\r\n",
        "output_features = 64\r\n",
        "\r\n",
        "inputs = np.random.random((timesteps, input_features))\r\n",
        "\r\n",
        "state_t = np.zeros((output_features, ))\r\n",
        "\r\n",
        "W = np.random.random((output_features, input_features))\r\n",
        "U = np.random.random((output_features, output_features))\r\n",
        "b = np.random.random((output_features, ))\r\n",
        "\r\n",
        "successive_outputs = []\r\n",
        "for input_t in inputs:\r\n",
        "    output_t = np.tanh(np.dot(W, input_t) + np.dot(U, state_t) + b)\r\n",
        "    successive_outputs.append(output_t)\r\n",
        "    state_t = output_t\r\n",
        "\r\n",
        "final_output_sequence = np.stack(successive_outputs, axis = 0)"
      ],
      "execution_count": null,
      "outputs": []
    },
    {
      "cell_type": "markdown",
      "metadata": {
        "id": "mRG0YLBAvbxY"
      },
      "source": [
        "### 케라스의 순환층\r\n",
        "넘파이로 구현한 과정이 실제 케라스 SimpleRNN층에 해당\r\n",
        "\r\n",
        "차이점은  \r\n",
        "(timesteps, input_features)의 크기가 아니라  \r\n",
        "(batch_size, timesteps, input_features) 크기의 입력을 받음"
      ]
    },
    {
      "cell_type": "code",
      "metadata": {
        "colab": {
          "base_uri": "https://localhost:8080/"
        },
        "id": "lSS2v_BWv5Yv",
        "outputId": "17267a05-75c7-4569-b7c8-77fef0c7bbe2"
      },
      "source": [
        "# SimpleRNN을 사용해 마지막 타임스텝의 출력 얻기\r\n",
        "from keras.models import Sequential\r\n",
        "from keras.layers import Embedding, SimpleRNN\r\n",
        "\r\n",
        "model = Sequential()\r\n",
        "model.add(Embedding(10000, 32))\r\n",
        "model.add(SimpleRNN(32))\r\n",
        "model.summary()"
      ],
      "execution_count": null,
      "outputs": [
        {
          "output_type": "stream",
          "text": [
            "Model: \"sequential\"\n",
            "_________________________________________________________________\n",
            "Layer (type)                 Output Shape              Param #   \n",
            "=================================================================\n",
            "embedding (Embedding)        (None, None, 32)          320000    \n",
            "_________________________________________________________________\n",
            "simple_rnn (SimpleRNN)       (None, 32)                2080      \n",
            "=================================================================\n",
            "Total params: 322,080\n",
            "Trainable params: 322,080\n",
            "Non-trainable params: 0\n",
            "_________________________________________________________________\n"
          ],
          "name": "stdout"
        }
      ]
    },
    {
      "cell_type": "markdown",
      "metadata": {
        "id": "j4UEwDhyxRJx"
      },
      "source": [
        "여기서 SimpleRNN의 파라미터 수는  \r\n",
        "SimpleRNN의 입력 특성 크기는 Embedding 층의 출력 특성 크기인 32,  \r\n",
        "W = 32 * 32, U = 32 * 32, b = 32  \r\n",
        "파라미터 = 32 * 32 + 32 * 32 + 32"
      ]
    },
    {
      "cell_type": "code",
      "metadata": {
        "colab": {
          "base_uri": "https://localhost:8080/"
        },
        "id": "pwezP1WhwQ4L",
        "outputId": "d4b99fc8-5965-4b8c-f0d0-152e24aa75a6"
      },
      "source": [
        "# SimpleRNN을 사용해 전체 상태 시퀀스 반환\r\n",
        "model = Sequential()\r\n",
        "model.add(Embedding(10000, 32))\r\n",
        "model.add(SimpleRNN(32, return_sequences = True))\r\n",
        "model.summary()"
      ],
      "execution_count": null,
      "outputs": [
        {
          "output_type": "stream",
          "text": [
            "Model: \"sequential_1\"\n",
            "_________________________________________________________________\n",
            "Layer (type)                 Output Shape              Param #   \n",
            "=================================================================\n",
            "embedding_1 (Embedding)      (None, None, 32)          320000    \n",
            "_________________________________________________________________\n",
            "simple_rnn_1 (SimpleRNN)     (None, None, 32)          2080      \n",
            "=================================================================\n",
            "Total params: 322,080\n",
            "Trainable params: 322,080\n",
            "Non-trainable params: 0\n",
            "_________________________________________________________________\n"
          ],
          "name": "stdout"
        }
      ]
    },
    {
      "cell_type": "code",
      "metadata": {
        "colab": {
          "base_uri": "https://localhost:8080/"
        },
        "id": "Apm1Y1FewwNw",
        "outputId": "5695679f-4e03-4e57-b15c-04cb216d48d1"
      },
      "source": [
        "# 전체 타임스텝의 출력을 받는 여러개의 SimpleRNN 층\r\n",
        "model = Sequential()\r\n",
        "model.add(Embedding(10000, 32))\r\n",
        "model.add(SimpleRNN(32, return_sequences = True))\r\n",
        "model.add(SimpleRNN(32, return_sequences = True))\r\n",
        "model.add(SimpleRNN(32, return_sequences = True))\r\n",
        "model.add(SimpleRNN(32))\r\n",
        "model.summary()"
      ],
      "execution_count": null,
      "outputs": [
        {
          "output_type": "stream",
          "text": [
            "Model: \"sequential_2\"\n",
            "_________________________________________________________________\n",
            "Layer (type)                 Output Shape              Param #   \n",
            "=================================================================\n",
            "embedding_2 (Embedding)      (None, None, 32)          320000    \n",
            "_________________________________________________________________\n",
            "simple_rnn_2 (SimpleRNN)     (None, None, 32)          2080      \n",
            "_________________________________________________________________\n",
            "simple_rnn_3 (SimpleRNN)     (None, None, 32)          2080      \n",
            "_________________________________________________________________\n",
            "simple_rnn_4 (SimpleRNN)     (None, None, 32)          2080      \n",
            "_________________________________________________________________\n",
            "simple_rnn_5 (SimpleRNN)     (None, 32)                2080      \n",
            "=================================================================\n",
            "Total params: 328,320\n",
            "Trainable params: 328,320\n",
            "Non-trainable params: 0\n",
            "_________________________________________________________________\n"
          ],
          "name": "stdout"
        }
      ]
    },
    {
      "cell_type": "code",
      "metadata": {
        "colab": {
          "base_uri": "https://localhost:8080/"
        },
        "id": "SttIINAEx1mt",
        "outputId": "4538e1b8-981f-44b4-f6e5-42c2536c8d00"
      },
      "source": [
        "# IMDB 데이터 전처리하기\r\n",
        "from keras.datasets import imdb\r\n",
        "from keras.preprocessing import sequence\r\n",
        "\r\n",
        "max_features = 10000\r\n",
        "maxlen = 500\r\n",
        "batch_size = 32\r\n",
        "\r\n",
        "print('데이터 로딩...')\r\n",
        "(input_train, y_train), (input_test, y_test) = imdb.load_data(num_words = max_features)\r\n",
        "print(len(input_train), '훈련 시퀀스')\r\n",
        "print(len(input_test), '테스트 시퀀스')\r\n",
        "\r\n",
        "print('시퀀스 패딩 (sample * time)')\r\n",
        "input_train = sequence.pad_sequences(input_train, maxlen = maxlen)\r\n",
        "input_test = sequence.pad_sequences(input_test, maxlen = maxlen)\r\n",
        "print('input_train 크기:', input_train.shape)\r\n",
        "print('input_test 크기:', input_test.shape)"
      ],
      "execution_count": 1,
      "outputs": [
        {
          "output_type": "stream",
          "text": [
            "데이터 로딩...\n",
            "Downloading data from https://storage.googleapis.com/tensorflow/tf-keras-datasets/imdb.npz\n",
            "17465344/17464789 [==============================] - 0s 0us/step\n"
          ],
          "name": "stdout"
        },
        {
          "output_type": "stream",
          "text": [
            "<string>:6: VisibleDeprecationWarning: Creating an ndarray from ragged nested sequences (which is a list-or-tuple of lists-or-tuples-or ndarrays with different lengths or shapes) is deprecated. If you meant to do this, you must specify 'dtype=object' when creating the ndarray\n",
            "/usr/local/lib/python3.6/dist-packages/tensorflow/python/keras/datasets/imdb.py:159: VisibleDeprecationWarning: Creating an ndarray from ragged nested sequences (which is a list-or-tuple of lists-or-tuples-or ndarrays with different lengths or shapes) is deprecated. If you meant to do this, you must specify 'dtype=object' when creating the ndarray\n",
            "  x_train, y_train = np.array(xs[:idx]), np.array(labels[:idx])\n",
            "/usr/local/lib/python3.6/dist-packages/tensorflow/python/keras/datasets/imdb.py:160: VisibleDeprecationWarning: Creating an ndarray from ragged nested sequences (which is a list-or-tuple of lists-or-tuples-or ndarrays with different lengths or shapes) is deprecated. If you meant to do this, you must specify 'dtype=object' when creating the ndarray\n",
            "  x_test, y_test = np.array(xs[idx:]), np.array(labels[idx:])\n"
          ],
          "name": "stderr"
        },
        {
          "output_type": "stream",
          "text": [
            "25000 훈련 시퀀스\n",
            "25000 테스트 시퀀스\n",
            "시퀀스 패딩 (sample * time)\n",
            "input_train 크기: (25000, 500)\n",
            "input_test 크기: (25000, 500)\n"
          ],
          "name": "stdout"
        }
      ]
    },
    {
      "cell_type": "markdown",
      "metadata": {
        "id": "XFi6VbjN5QFD"
      },
      "source": [
        "Embedding 층과 SimpleRNN 층을 사용하여 간단한 순환 네트워크 훈련 시키기\r\n"
      ]
    },
    {
      "cell_type": "code",
      "metadata": {
        "colab": {
          "base_uri": "https://localhost:8080/"
        },
        "id": "OiDNn6Ai5Pt9",
        "outputId": "d18412ec-28a9-48eb-b022-971d7ccb7ee5"
      },
      "source": [
        "# Embedding 층과 SimpleRNN 층을 사용한 모델 훈련하기\r\n",
        "from keras.layers import Dense\r\n",
        "\r\n",
        "model = Sequential()\r\n",
        "model.add(Embedding(max_features, 32))\r\n",
        "model.add(SimpleRNN(32))\r\n",
        "model.add(Dense(1, activation = 'sigmoid'))\r\n",
        "\r\n",
        "model.compile(optimizer = 'rmsprop',\r\n",
        "              loss = 'binary_crossentropy',\r\n",
        "              metrics = ['acc'])\r\n",
        "history = model.fit(input_train,\r\n",
        "                    y_train,\r\n",
        "                    epochs = 10,\r\n",
        "                    batch_size = 128,\r\n",
        "                    validation_split = 0.2)"
      ],
      "execution_count": null,
      "outputs": [
        {
          "output_type": "stream",
          "text": [
            "Epoch 1/10\n",
            "157/157 [==============================] - 25s 148ms/step - loss: 0.6660 - acc: 0.5764 - val_loss: 0.4862 - val_acc: 0.7706\n",
            "Epoch 2/10\n",
            "157/157 [==============================] - 22s 141ms/step - loss: 0.4005 - acc: 0.8315 - val_loss: 0.3489 - val_acc: 0.8620\n",
            "Epoch 3/10\n",
            "157/157 [==============================] - 22s 142ms/step - loss: 0.3054 - acc: 0.8825 - val_loss: 0.3822 - val_acc: 0.8516\n",
            "Epoch 4/10\n",
            "157/157 [==============================] - 22s 140ms/step - loss: 0.2322 - acc: 0.9145 - val_loss: 0.3503 - val_acc: 0.8698\n",
            "Epoch 5/10\n",
            "157/157 [==============================] - 22s 140ms/step - loss: 0.1691 - acc: 0.9379 - val_loss: 0.4095 - val_acc: 0.8648\n",
            "Epoch 6/10\n",
            "157/157 [==============================] - 22s 142ms/step - loss: 0.1520 - acc: 0.9454 - val_loss: 0.4120 - val_acc: 0.8484\n",
            "Epoch 7/10\n",
            "157/157 [==============================] - 22s 143ms/step - loss: 0.0958 - acc: 0.9696 - val_loss: 0.3910 - val_acc: 0.8700\n",
            "Epoch 8/10\n",
            "157/157 [==============================] - 22s 142ms/step - loss: 0.0628 - acc: 0.9794 - val_loss: 0.5897 - val_acc: 0.7854\n",
            "Epoch 9/10\n",
            "157/157 [==============================] - 22s 140ms/step - loss: 0.0521 - acc: 0.9836 - val_loss: 0.5231 - val_acc: 0.8400\n",
            "Epoch 10/10\n",
            "157/157 [==============================] - 22s 141ms/step - loss: 0.0310 - acc: 0.9913 - val_loss: 0.5990 - val_acc: 0.8018\n"
          ],
          "name": "stdout"
        }
      ]
    },
    {
      "cell_type": "code",
      "metadata": {
        "colab": {
          "base_uri": "https://localhost:8080/",
          "height": 564
        },
        "id": "6BZqbOWn523w",
        "outputId": "dd10082a-4d1a-4110-92cf-0754fd733f68"
      },
      "source": [
        "# 결과 그래프 그리기\r\n",
        "import matplotlib.pyplot as plt\r\n",
        "\r\n",
        "acc = history.history['acc']\r\n",
        "val_acc = history.history['val_acc']\r\n",
        "loss = history.history['loss']\r\n",
        "val_loss = history.history['val_loss']\r\n",
        "\r\n",
        "epochs = range(1, len(acc) + 1)\r\n",
        "\r\n",
        "plt.plot(epochs, acc, 'bo', label = 'Training acc')\r\n",
        "plt.plot(epochs, val_acc, 'b', label = 'Validation acc')\r\n",
        "plt.title('Training and validation accuracy')\r\n",
        "plt.legend()\r\n",
        "plt.figure()\r\n",
        "\r\n",
        "plt.plot(epochs, loss, 'bo', label = 'Training loss')\r\n",
        "plt.plot(epochs, val_loss, 'b', label = 'Validation loss')\r\n",
        "plt.title('Training and validation loss')\r\n",
        "plt.legend()"
      ],
      "execution_count": null,
      "outputs": [
        {
          "output_type": "execute_result",
          "data": {
            "text/plain": [
              "<matplotlib.legend.Legend at 0x7fc43411aef0>"
            ]
          },
          "metadata": {
            "tags": []
          },
          "execution_count": 12
        },
        {
          "output_type": "display_data",
          "data": {
            "image/png": "[encoded data removed]",
            "text/plain": [
              "<Figure size 432x288 with 1 Axes>"
            ]
          },
          "metadata": {
            "tags": [],
            "needs_background": "light"
          }
        },
        {
          "output_type": "display_data",
          "data": {
            "image/png": "[encoded data removed]",
            "text/plain": [
              "<Figure size 432x288 with 1 Axes>"
            ]
          },
          "metadata": {
            "tags": [],
            "needs_background": "light"
          }
        }
      ]
    },
    {
      "cell_type": "markdown",
      "metadata": {
        "id": "bEfBna1NlUPU"
      },
      "source": [
        "3장의 모델과 비교했을 때 정확도가 조금 낮은데  \r\n",
        "이는 전체 시퀀스가 아닌 순서대로 500개의 단어만 입력에 사용 했기 때문  \r\n"
      ]
    },
    {
      "cell_type": "markdown",
      "metadata": {
        "id": "wW5EIIyDmdoA"
      },
      "source": [
        "### LSTM과 GRU 층 이해하기\r\n",
        "실전엔서 SimpleRNN 보단 LSTM과 GRU 를 많이 사용  \r\n",
        "SimpleRNN의 경우 이론적으로 시간 t에서 이전의 모든 타임 스텝의 정보를 유지할 수 있으나,  \r\n",
        "실제론 긴 시간에 걸친 의존성은 학습할 수 없음   \r\n",
        "그래디언트 소실 문제 발생   \r\n",
        "이를 해결하기 위해 만든 것이 LSTM과 GRU\r\n",
        "\r\n",
        "LSTM  \r\n",
        "RNN층을 기반으로 이뤄져 있으며  \r\n",
        "시퀀스 어느 지점에서 추출된 정보가 필요한 시점의 타임스텝에 제공하는 구조를 추가함\r\n",
        "\r\n",
        "\r\n"
      ]
    },
    {
      "cell_type": "code",
      "metadata": {
        "id": "t-QIMMyLwD2W"
      },
      "source": [
        "# LSTM 구조의 의사코드\r\n",
        "output_t = activation(c_t) * activation(dot(input_t, Wo) + dot(state_t, Uo) + bo)\r\n",
        "\r\n",
        "i_t = activation(dot(state_t, Ui) + dot(input_t, Wi) + bi)\r\n",
        "f_t = activation(dot(state_t, Uf) + dot(input_t, Wf) + bf)\r\n",
        "k_t = activation(dot(state_t, Uk) + dot(input_t, Wk) + bk)\r\n",
        "\r\n",
        "c_t + 1 = i_t * k_t + c_t * f_t"
      ],
      "execution_count": null,
      "outputs": []
    },
    {
      "cell_type": "markdown",
      "metadata": {
        "id": "M49RRZ3jwTuj"
      },
      "source": [
        "여기서 문자 'o' 는 output을 의미하며  \r\n",
        "문자 'c'는 이동을 의미합니다.\r\n",
        "\r\n",
        "i, f, k 는 자신만의 가중치 행렬  "
      ]
    },
    {
      "cell_type": "markdown",
      "metadata": {
        "id": "bke3SNTigw-q"
      },
      "source": [
        "### 케라스를 사용한 LSTM 예제"
      ]
    },
    {
      "cell_type": "code",
      "metadata": {
        "colab": {
          "base_uri": "https://localhost:8080/"
        },
        "id": "OtSg-fDPhfbC",
        "outputId": "fb550ef3-ebbb-4732-cb0f-4f716a52182e"
      },
      "source": [
        "# IMDB 데이터셋 불러오기\r\n",
        "from keras.datasets import imdb\r\n",
        "from keras.preprocessing import sequence\r\n",
        "\r\n",
        "max_features = 10000\r\n",
        "maxlen = 500\r\n",
        "batch_size = 32\r\n",
        "\r\n",
        "print('데이터 로딩...')\r\n",
        "(input_train, y_train), (input_test, y_test) = imdb.load_data(num_words = max_features)\r\n",
        "print(len(input_train), '훈련 시퀀스')\r\n",
        "print(len(input_test), '테스트 시퀀스')\r\n",
        "\r\n",
        "print('시퀀스 패딩 (sample * time)')\r\n",
        "input_train = sequence.pad_sequences(input_train, maxlen = maxlen)\r\n",
        "input_test = sequence.pad_sequences(input_test, maxlen = maxlen)\r\n",
        "print('input_train 크기:', input_train.shape)\r\n",
        "print('input_test 크기:', input_test.shape)"
      ],
      "execution_count": 2,
      "outputs": [
        {
          "output_type": "stream",
          "text": [
            "데이터 로딩...\n"
          ],
          "name": "stdout"
        },
        {
          "output_type": "stream",
          "text": [
            "<string>:6: VisibleDeprecationWarning: Creating an ndarray from ragged nested sequences (which is a list-or-tuple of lists-or-tuples-or ndarrays with different lengths or shapes) is deprecated. If you meant to do this, you must specify 'dtype=object' when creating the ndarray\n",
            "/usr/local/lib/python3.6/dist-packages/tensorflow/python/keras/datasets/imdb.py:159: VisibleDeprecationWarning: Creating an ndarray from ragged nested sequences (which is a list-or-tuple of lists-or-tuples-or ndarrays with different lengths or shapes) is deprecated. If you meant to do this, you must specify 'dtype=object' when creating the ndarray\n",
            "  x_train, y_train = np.array(xs[:idx]), np.array(labels[:idx])\n",
            "/usr/local/lib/python3.6/dist-packages/tensorflow/python/keras/datasets/imdb.py:160: VisibleDeprecationWarning: Creating an ndarray from ragged nested sequences (which is a list-or-tuple of lists-or-tuples-or ndarrays with different lengths or shapes) is deprecated. If you meant to do this, you must specify 'dtype=object' when creating the ndarray\n",
            "  x_test, y_test = np.array(xs[idx:]), np.array(labels[idx:])\n"
          ],
          "name": "stderr"
        },
        {
          "output_type": "stream",
          "text": [
            "25000 훈련 시퀀스\n",
            "25000 테스트 시퀀스\n",
            "시퀀스 패딩 (sample * time)\n",
            "input_train 크기: (25000, 500)\n",
            "input_test 크기: (25000, 500)\n"
          ],
          "name": "stdout"
        }
      ]
    },
    {
      "cell_type": "code",
      "metadata": {
        "id": "tacT2eEcwu7e",
        "colab": {
          "base_uri": "https://localhost:8080/"
        },
        "outputId": "06f70f76-e2c7-401f-906f-987b7bb5e130"
      },
      "source": [
        "# 케라스에서 LSTM 층 사용하기\r\n",
        "from keras.models import Sequential\r\n",
        "from keras.layers import Embedding, Dense, LSTM\r\n",
        "\r\n",
        "model = Sequential()\r\n",
        "model.add(Embedding(max_features, 32))\r\n",
        "model.add(LSTM(32))\r\n",
        "model.add(Dense(1, activation = 'sigmoid'))\r\n",
        "\r\n",
        "model.compile(optimizer = 'rmsprop',\r\n",
        "              loss = 'binary_crossentropy',\r\n",
        "              metrics = ['acc'])\r\n",
        "\r\n",
        "history = model.fit(input_train,\r\n",
        "                    y_train,\r\n",
        "                    epochs = 10,\r\n",
        "                    batch_size = 128,\r\n",
        "                    validation_split = 0.2)"
      ],
      "execution_count": 5,
      "outputs": [
        {
          "output_type": "stream",
          "text": [
            "Epoch 1/10\n",
            "157/157 [==============================] - 49s 298ms/step - loss: 0.5977 - acc: 0.6771 - val_loss: 0.3615 - val_acc: 0.8476\n",
            "Epoch 2/10\n",
            "157/157 [==============================] - 51s 327ms/step - loss: 0.2938 - acc: 0.8860 - val_loss: 0.3079 - val_acc: 0.8768\n",
            "Epoch 3/10\n",
            "157/157 [==============================] - 50s 318ms/step - loss: 0.2299 - acc: 0.9163 - val_loss: 0.2967 - val_acc: 0.8816\n",
            "Epoch 4/10\n",
            "157/157 [==============================] - 53s 339ms/step - loss: 0.1902 - acc: 0.9307 - val_loss: 0.3640 - val_acc: 0.8494\n",
            "Epoch 5/10\n",
            "157/157 [==============================] - 53s 338ms/step - loss: 0.1768 - acc: 0.9360 - val_loss: 0.3080 - val_acc: 0.8696\n",
            "Epoch 6/10\n",
            "157/157 [==============================] - 54s 347ms/step - loss: 0.1538 - acc: 0.9472 - val_loss: 0.2966 - val_acc: 0.8846\n",
            "Epoch 7/10\n",
            "157/157 [==============================] - 53s 334ms/step - loss: 0.1378 - acc: 0.9509 - val_loss: 0.3129 - val_acc: 0.8822\n",
            "Epoch 8/10\n",
            "157/157 [==============================] - 54s 343ms/step - loss: 0.1275 - acc: 0.9567 - val_loss: 0.3284 - val_acc: 0.8810\n",
            "Epoch 9/10\n",
            "157/157 [==============================] - 53s 339ms/step - loss: 0.1180 - acc: 0.9597 - val_loss: 0.3463 - val_acc: 0.8620\n",
            "Epoch 10/10\n",
            "157/157 [==============================] - 53s 339ms/step - loss: 0.1020 - acc: 0.9691 - val_loss: 0.3686 - val_acc: 0.8814\n"
          ],
          "name": "stdout"
        }
      ]
    },
    {
      "cell_type": "code",
      "metadata": {
        "colab": {
          "base_uri": "https://localhost:8080/",
          "height": 564
        },
        "id": "_BN82JiQibCo",
        "outputId": "28298d05-7298-4625-f37d-1320e80df15e"
      },
      "source": [
        "import matplotlib.pyplot as plt\r\n",
        "\r\n",
        "acc = history.history['acc']\r\n",
        "val_acc = history.history['val_acc']\r\n",
        "loss = history.history['loss']\r\n",
        "val_loss = history.history['val_loss']\r\n",
        "\r\n",
        "epochs = range(1, len(acc) + 1)\r\n",
        "\r\n",
        "plt.plot(epochs, acc, 'bo', label = 'Training acc')\r\n",
        "plt.plot(epochs, val_acc, 'b', label = 'Validation acc')\r\n",
        "plt.legend()\r\n",
        "plt.title(\"Training and validation accuracy\")\r\n",
        "plt.figure()\r\n",
        "\r\n",
        "plt.plot(epochs, loss, 'bo', label = 'Training loss')\r\n",
        "plt.plot(epochs, val_loss, 'b', label = 'Validation loss')\r\n",
        "plt.legend()\r\n",
        "plt.title(\"Training and validation loss\")"
      ],
      "execution_count": 6,
      "outputs": [
        {
          "output_type": "execute_result",
          "data": {
            "text/plain": [
              "Text(0.5, 1.0, 'Training and validation loss')"
            ]
          },
          "metadata": {
            "tags": []
          },
          "execution_count": 6
        },
        {
          "output_type": "display_data",
          "data": {
            "image/png": "[encoded data removed]",
            "text/plain": [
              "<Figure size 432x288 with 1 Axes>"
            ]
          },
          "metadata": {
            "tags": [],
            "needs_background": "light"
          }
        },
        {
          "output_type": "display_data",
          "data": {
            "image/png": "[encoded data removed]",
            "text/plain": [
              "<Figure size 432x288 with 1 Axes>"
            ]
          },
          "metadata": {
            "tags": [],
            "needs_background": "light"
          }
        }
      ]
    },
    {
      "cell_type": "markdown",
      "metadata": {
        "id": "4ceH2t3CjNqg"
      },
      "source": [
        "검증 정확도가 SimpleRNN을 사용했을 때 보다 더 나은 모습을 보임  \r\n",
        "이는 LSTM이 그래디언트 소실 문제로 부터 덜 영향을 받기 때문  "
      ]
    },
    {
      "cell_type": "markdown",
      "metadata": {
        "id": "PVHVHqEbjbaV"
      },
      "source": [
        "## 6.3 순환 신경망의 고급 사용법\r\n",
        "순환 신경망의 성능과 일반화 능력을 향상시키는 방법\r\n",
        "- 순환 드롭아웃\r\n",
        "- 스태킹 순환 층\r\n",
        "- 양방향 순환 층"
      ]
    },
    {
      "cell_type": "markdown",
      "metadata": {
        "id": "QREoq4agkyuw"
      },
      "source": [
        "### 기온 예측 문제\r\n",
        "날씨 시계열 데이터셋  \r\n",
        "**수년간에 걸쳐 (기온, 습도, 기압, 풍향 등) 14개의 관측치가 10분마다 기록된 데이터**"
      ]
    },
    {
      "cell_type": "code",
      "metadata": {
        "colab": {
          "base_uri": "https://localhost:8080/"
        },
        "id": "wTpfN2mTjbA_",
        "outputId": "b877ba13-1d8f-4b41-991b-db550d16bf0b"
      },
      "source": [
        "from google.colab import drive \r\n",
        "drive.mount('/content/gdrive/')"
      ],
      "execution_count": 5,
      "outputs": [
        {
          "output_type": "stream",
          "text": [
            "Drive already mounted at /content/gdrive/; to attempt to forcibly remount, call drive.mount(\"/content/gdrive/\", force_remount=True).\n"
          ],
          "name": "stdout"
        }
      ]
    },
    {
      "cell_type": "code",
      "metadata": {
        "colab": {
          "base_uri": "https://localhost:8080/"
        },
        "id": "lQsVGXDUliDO",
        "outputId": "e15515dc-61d3-4f9e-beca-87d60eedfb57"
      },
      "source": [
        "%cd /content/gdrive/MyDrive/datasets/"
      ],
      "execution_count": 6,
      "outputs": [
        {
          "output_type": "stream",
          "text": [
            "/content/gdrive/MyDrive/datasets\n"
          ],
          "name": "stdout"
        }
      ]
    },
    {
      "cell_type": "code",
      "metadata": {
        "colab": {
          "base_uri": "https://localhost:8080/"
        },
        "id": "yOqDaMuBlpG8",
        "outputId": "68f2f83a-2498-4e8a-e5ab-528dcbf4f7f3"
      },
      "source": [
        "!mkdir jena_climate\r\n",
        "%cd jena_climate\r\n",
        "!wget https://s3.amazonaws.com/keras-datasets/jena_climate_2009_2016.csv.zip\r\n",
        "!unzip jena_climate_2009_2016.csv.zip"
      ],
      "execution_count": 9,
      "outputs": [
        {
          "output_type": "stream",
          "text": [
            "--2021-01-02 05:35:32--  https://s3.amazonaws.com/keras-datasets/jena_climate_2009_2016.csv.zip\n",
            "Resolving s3.amazonaws.com (s3.amazonaws.com)... 52.216.128.109\n",
            "Connecting to s3.amazonaws.com (s3.amazonaws.com)|52.216.128.109|:443... connected.\n",
            "HTTP request sent, awaiting response... 200 OK\n",
            "Length: 13565642 (13M) [application/zip]\n",
            "Saving to: ‘jena_climate_2009_2016.csv.zip’\n",
            "\n",
            "jena_climate_2009_2 100%[===================>]  12.94M  50.8MB/s    in 0.3s    \n",
            "\n",
            "2021-01-02 05:35:33 (50.8 MB/s) - ‘jena_climate_2009_2016.csv.zip’ saved [13565642/13565642]\n",
            "\n",
            "Archive:  jena_climate_2009_2016.csv.zip\n",
            "  inflating: jena_climate_2009_2016.csv  \n",
            "  inflating: __MACOSX/._jena_climate_2009_2016.csv  \n"
          ],
          "name": "stdout"
        }
      ]
    },
    {
      "cell_type": "code",
      "metadata": {
        "colab": {
          "base_uri": "https://localhost:8080/"
        },
        "id": "GNfKWpTumDwn",
        "outputId": "44cb4727-a435-49bc-ab04-6ebc04b0eec8"
      },
      "source": [
        "# 예나의 날씨 데이터셋 조사하기\r\n",
        "fname = 'jena_climate_2009_2016.csv'\r\n",
        "\r\n",
        "f = open(fname)\r\n",
        "data = f.read()\r\n",
        "f.close()\r\n",
        "\r\n",
        "lines = data.split('\\n')\r\n",
        "header = lines[0].split(',')\r\n",
        "lines = lines[1:]\r\n",
        "\r\n",
        "print(header)\r\n",
        "print(len(lines))"
      ],
      "execution_count": 8,
      "outputs": [
        {
          "output_type": "stream",
          "text": [
            "['\"Date Time\"', '\"p (mbar)\"', '\"T (degC)\"', '\"Tpot (K)\"', '\"Tdew (degC)\"', '\"rh (%)\"', '\"VPmax (mbar)\"', '\"VPact (mbar)\"', '\"VPdef (mbar)\"', '\"sh (g/kg)\"', '\"H2OC (mmol/mol)\"', '\"rho (g/m**3)\"', '\"wv (m/s)\"', '\"max. wv (m/s)\"', '\"wd (deg)\"']\n",
            "420451\n"
          ],
          "name": "stdout"
        }
      ]
    },
    {
      "cell_type": "code",
      "metadata": {
        "id": "ux6HupHQm0nJ"
      },
      "source": [
        "# 데이터 파싱하기\r\n",
        "import numpy as np\r\n",
        "\r\n",
        "float_data = np.zeros((len(lines), len(header) - 1))\r\n",
        "for i, line in enumerate(lines):\r\n",
        "    values = [float(x) for x in line.split(',')[1:]]\r\n",
        "    float_data[i, :] = values"
      ],
      "execution_count": 9,
      "outputs": []
    },
    {
      "cell_type": "code",
      "metadata": {
        "colab": {
          "base_uri": "https://localhost:8080/",
          "height": 287
        },
        "id": "s6YZ2GnxnK8X",
        "outputId": "b56af2bd-54e2-4cd8-983c-f0124519653f"
      },
      "source": [
        "# 시계열 온도 그래프 그리기\r\n",
        "import matplotlib.pyplot as plt\r\n",
        "\r\n",
        "temp = float_data[:,1]\r\n",
        "plt.plot(range(len(temp)), temp)"
      ],
      "execution_count": 23,
      "outputs": [
        {
          "output_type": "execute_result",
          "data": {
            "text/plain": [
              "[<matplotlib.lines.Line2D at 0x7f9a60a5b828>]"
            ]
          },
          "metadata": {
            "tags": []
          },
          "execution_count": 23
        },
        {
          "output_type": "display_data",
          "data": {
            "image/png": "[encoded data removed]",
            "text/plain": [
              "<Figure size 432x288 with 1 Axes>"
            ]
          },
          "metadata": {
            "tags": [],
            "needs_background": "light"
          }
        }
      ]
    },
    {
      "cell_type": "markdown",
      "metadata": {
        "id": "XqKR_p84nx7L"
      },
      "source": [
        "10분마다 데이터가 기록돼 이쏘 하루 총 144개의 데이터 포인트가 존재함"
      ]
    },
    {
      "cell_type": "code",
      "metadata": {
        "colab": {
          "base_uri": "https://localhost:8080/",
          "height": 284
        },
        "id": "Xn15NfW_n3I6",
        "outputId": "b557e1a6-ea8c-4969-c4dc-e1688f693cfb"
      },
      "source": [
        "# 처음 10일간 온도 그래프 그리기\r\n",
        "plt.plot(range(1440), temp[:1440])"
      ],
      "execution_count": 25,
      "outputs": [
        {
          "output_type": "execute_result",
          "data": {
            "text/plain": [
              "[<matplotlib.lines.Line2D at 0x7f9a60a20588>]"
            ]
          },
          "metadata": {
            "tags": []
          },
          "execution_count": 25
        },
        {
          "output_type": "display_data",
          "data": {
            "image/png": "[encoded data removed]",
            "text/plain": [
              "<Figure size 432x288 with 1 Axes>"
            ]
          },
          "metadata": {
            "tags": [],
            "needs_background": "light"
          }
        }
      ]
    },
    {
      "cell_type": "markdown",
      "metadata": {
        "id": "N8z7nFzUoFJ9"
      },
      "source": [
        "그래프를 봤을 때 모두 영하의 날씨이고,  \r\n",
        "영하 20도 아래까지 내려가는 것으로 보아  \r\n",
        "가장 추운 겨울 중 10일의 데이터로 보임  \r\n"
      ]
    },
    {
      "cell_type": "markdown",
      "metadata": {
        "id": "Gw5vOdVyoWAp"
      },
      "source": [
        "### 데이터 준비\r\n",
        "**문제 정의**  \r\n",
        "lookback 타임스텝만큼 이전으로 돌아가서  \r\n",
        "매 steps 타임스텝마다 샘플링  \r\n",
        "이 데이터를 바탕으로 delay 타임스텝 이후 온도 예측\r\n",
        "- lookback = 1440 : 10일 전 데이터로 돌아감\r\n",
        "- steps = 6 : 1시간마다 데이터 포인트 하나 샘플링\r\n",
        "- delay = 144 : 24시간이 지난 데이터가 타겟  \r\n",
        "\r\n",
        "이를 수행하기 위해선 데이터 전처리가 필요\r\n",
        "- 신경망에 주입할 수 있는 형태로 변환하는데 데이터가 수치형이므로 추가적인 벡터화는 필요 없음. 다만, 각 데이터들의 측정 단위가 다르기 때문에 이를 비슷한 범위의 작은 값으로 변환 필요\r\n",
        "- float_data 배열을 받아 과거의 데이터의 배치와 미래 타깃 온도 추출하는 제너레이터 만들기\r\n",
        "\r\n",
        "각 시계열 특성에 대해 평균을 빼고 표준 편차로 나눠 전처리"
      ]
    },
    {
      "cell_type": "code",
      "metadata": {
        "id": "VU0QKBXauVhU"
      },
      "source": [
        "# 데이터 정규화하기\r\n",
        "mean = float_data[:200000].mean(axis = 0)\r\n",
        "float_data -= mean\r\n",
        "std = float_data[:200000].std(axis = 0)\r\n",
        "float_data /= std"
      ],
      "execution_count": 10,
      "outputs": []
    },
    {
      "cell_type": "markdown",
      "metadata": {
        "id": "v7TNxdDf7tV2"
      },
      "source": [
        "20만개의 데이터를 훈련 데이터로 사용할 것이기에    \r\n",
        "20개의 데이터를 바탕으로 평균과 표준편차를 구해   \r\n",
        "데이터 전체에 적용해주기  "
      ]
    },
    {
      "cell_type": "markdown",
      "metadata": {
        "id": "EjCq2auxuuGN"
      },
      "source": [
        "제너레이터 함수 생성  \r\n",
        "- data : 정규화한 부동 소수 데이터로 이루어진 원본 배열\r\n",
        "- lookback : 입력으로 사용하기 위해 거슬러 올라갈 타임스텝\r\n",
        "- delay : 타깃으로 사용할 미래의 타임스텝\r\n",
        "- min_index, max_index : 추출할 타임스텝의 범위 지정위한 인덱스\r\n",
        "- shuffle : 샘플을 섞거나, 시간 순서대로 추출할지를 결정\r\n",
        "- batch_size : 배치의 샘플 수\r\n",
        "- step : 데이터를 샘플링할 타임스텝 간격, 여기선 1시간 즉 6으로 설정\r\n"
      ]
    },
    {
      "cell_type": "code",
      "metadata": {
        "id": "6QVmG4UDvP6M"
      },
      "source": [
        "# 시계열 데이터와 타깃을 반환하는 제너레이터 함수\r\n",
        "def generator(data, lookback, delay, min_index, max_index, shuffle = False, batch_size = 128, step = 6):\r\n",
        "    if max_index is None:\r\n",
        "        max_index = len(data) - delay - 1\r\n",
        "    i = min_index + lookback\r\n",
        "    while 1:\r\n",
        "        if shuffle:\r\n",
        "            rows = np.random.randint(\r\n",
        "                min_index + lookback, max_index, size = batch_size)\r\n",
        "        else:\r\n",
        "            if i + batch_size >= max_index:\r\n",
        "                i = min_index + lookback\r\n",
        "            rows = np.arange(i, min(i + batch_size, max_index))\r\n",
        "            i += len(rows)\r\n",
        "\r\n",
        "        samples = np.zeros((len(rows),\r\n",
        "                            lookback // step,\r\n",
        "                            data.shape[-1]))\r\n",
        "        targets = np.zeros((len(rows), ))\r\n",
        "        for j, row in enumerate(rows):\r\n",
        "            indices = range(rows[j] - lookback, rows[j], step)\r\n",
        "            samples[j] = data[indices]\r\n",
        "            targets[j] = data[rows[j] + delay][1]\r\n",
        "        yield samples, targets                                     "
      ],
      "execution_count": 11,
      "outputs": []
    },
    {
      "cell_type": "code",
      "metadata": {
        "id": "rQ7Bww0ozTTs"
      },
      "source": [
        "# 훈련, 검증, 테스트 제너레이터 준비하기\r\n",
        "lookback = 1440\r\n",
        "step = 6\r\n",
        "delay = 144\r\n",
        "batch_size = 128\r\n",
        "train_gen = generator(float_data,\r\n",
        "                      lookback = lookback,\r\n",
        "                      delay = delay,\r\n",
        "                      min_index = 0,\r\n",
        "                      max_index = 200000,\r\n",
        "                      shuffle = True,\r\n",
        "                      step = step,\r\n",
        "                      batch_size = batch_size)\r\n",
        "val_gen = generator(float_data,\r\n",
        "                    lookback = lookback,\r\n",
        "                    delay = delay,\r\n",
        "                    min_index = 200001,\r\n",
        "                    max_index = 300000,\r\n",
        "                    step = step,\r\n",
        "                    batch_size = batch_size)\r\n",
        "test_gen = generator(float_data,\r\n",
        "                     lookback = lookback,\r\n",
        "                     delay = delay,\r\n",
        "                     min_index = 300001,\r\n",
        "                     max_index = None,\r\n",
        "                     step = step,\r\n",
        "                     batch_size = batch_size)\r\n",
        "\r\n",
        "val_steps = (300000 - 200001 - lookback) // batch_size\r\n",
        "test_steps = (len(float_data) - 300001 - lookback) // batch_size"
      ],
      "execution_count": 12,
      "outputs": []
    },
    {
      "cell_type": "markdown",
      "metadata": {
        "id": "7Zu7ZnBb0zTU"
      },
      "source": [
        "### 상식 수준의 기준점\r\n",
        "블랙 박스 같은 딥러닝 모델을 사용하여 온도 예측 문제를 풀기 전에 간단한 상식 수준의 해법을 시도해 보겠음   \r\n",
        "- 이는 정상 여부 확인을 위한 용도 이며, 머신 러닝 모델이 뛰어넘어야 할 기준 점\r\n",
        "\r\n",
        "이런 상식 수준의 해법은 알려진 해결책이 없는 새로운 문제를 다룰 때 유용  \r\n",
        "\r\n",
        "일반적으로 온도 시계열 데이터는 연속성이 있으며 일자별로 주기성을 가진다고 가정  \r\n",
        "상식 수준의 해결책은 지금으로부터 24시간 후 온도는 지금과 동일하다고 예측하는 것  \r\n",
        "\r\n",
        "이를 평균 절대값 오차로 평가  \r\n"
      ]
    },
    {
      "cell_type": "code",
      "metadata": {
        "id": "oRLHVnR01kw0"
      },
      "source": [
        "np.mean(np.abs(preds - targets))"
      ],
      "execution_count": null,
      "outputs": []
    },
    {
      "cell_type": "code",
      "metadata": {
        "colab": {
          "base_uri": "https://localhost:8080/"
        },
        "id": "5vyKPZ0D1n1c",
        "outputId": "4ed75e0e-f6e1-464e-dd04-e915ef6bc672"
      },
      "source": [
        "# 상식적인 기준 모델의 MAE 계산하기\r\n",
        "def evaluate_naive_method():\r\n",
        "    batch_maes = []\r\n",
        "    for step in range(val_steps):\r\n",
        "        samples, targets = next(val_gen)\r\n",
        "        preds = samples[:, -1, 1]\r\n",
        "        mae = np.mean(np.abs(preds - targets))\r\n",
        "        batch_maes.append(mae)\r\n",
        "    print(format(np.mean(batch_maes), '1.5f'))\r\n",
        "\r\n",
        "evaluate_naive_method()"
      ],
      "execution_count": 35,
      "outputs": [
        {
          "output_type": "stream",
          "text": [
            "0.28974\n"
          ],
          "name": "stdout"
        }
      ]
    },
    {
      "cell_type": "markdown",
      "metadata": {
        "id": "LetkJm3m2j34"
      },
      "source": [
        "출력된 MAE는 약 0.29로\r\n",
        "이 온도 데이터는 평균이 0이고 표준 편차가 1이므로 결과값이 바로 와닿지 않음\r\n",
        "\r\n",
        "MAE에 표준편차를 곱하면 실제 값으로 변환 가능"
      ]
    },
    {
      "cell_type": "code",
      "metadata": {
        "colab": {
          "base_uri": "https://localhost:8080/"
        },
        "id": "325JKuji25sX",
        "outputId": "5299d46d-7a8b-4bb2-834e-18ba186c4264"
      },
      "source": [
        "# MAE를 섭씨 단위로 변환하기\r\n",
        "celsius_mae = 0.28974 * std[1]\r\n",
        "celsius_mae"
      ],
      "execution_count": 37,
      "outputs": [
        {
          "output_type": "execute_result",
          "data": {
            "text/plain": [
              "2.5649230840779667"
            ]
          },
          "metadata": {
            "tags": []
          },
          "execution_count": 37
        }
      ]
    },
    {
      "cell_type": "markdown",
      "metadata": {
        "id": "RVt9jN-l3s64"
      },
      "source": [
        "### 기본적인 머신 러닝 방법"
      ]
    },
    {
      "cell_type": "markdown",
      "metadata": {
        "id": "X0tAg4iI6fDw"
      },
      "source": [
        "복잡한 모델을 시도하기 전에 간단한 모델을 먼저 만드는 것이 좋음  \r\n",
        "이를 바탕으로 복잡한 방법을 도입하는 근거가 마련되고 실제적인 이득도 얻을 수 있음  "
      ]
    },
    {
      "cell_type": "code",
      "metadata": {
        "colab": {
          "base_uri": "https://localhost:8080/"
        },
        "id": "XxzLOb0V3vsv",
        "outputId": "f842dbe5-c30b-4aaa-c505-dadf8a400155"
      },
      "source": [
        "# 완전 연결 모델을 훈련하고 평가하기\r\n",
        "from keras.models import Sequential\r\n",
        "from keras import layers\r\n",
        "from keras.optimizers import RMSprop\r\n",
        "\r\n",
        "model = Sequential()\r\n",
        "model.add(layers.Flatten(input_shape = (lookback // step, float_data.shape[-1])))\r\n",
        "model.add(layers.Dense(32, activation = 'relu'))\r\n",
        "model.add(layers.Dense(1))\r\n",
        "model.compile(optimizer = RMSprop(),\r\n",
        "              loss = 'mae')\r\n",
        "history = model.fit_generator(train_gen,\r\n",
        "                              steps_per_epoch=500,\r\n",
        "                              epochs=20,\r\n",
        "                              validation_data=val_gen,\r\n",
        "                              validation_steps=val_steps)"
      ],
      "execution_count": 38,
      "outputs": [
        {
          "output_type": "stream",
          "text": [
            "/usr/local/lib/python3.6/dist-packages/tensorflow/python/keras/engine/training.py:1844: UserWarning: `Model.fit_generator` is deprecated and will be removed in a future version. Please use `Model.fit`, which supports generators.\n",
            "  warnings.warn('`Model.fit_generator` is deprecated and '\n"
          ],
          "name": "stderr"
        },
        {
          "output_type": "stream",
          "text": [
            "Epoch 1/20\n",
            "500/500 [==============================] - 13s 25ms/step - loss: 1.9693 - val_loss: 0.7200\n",
            "Epoch 2/20\n",
            "500/500 [==============================] - 13s 25ms/step - loss: 0.5497 - val_loss: 0.3249\n",
            "Epoch 3/20\n",
            "500/500 [==============================] - 13s 26ms/step - loss: 0.3036 - val_loss: 0.3261\n",
            "Epoch 4/20\n",
            "500/500 [==============================] - 13s 26ms/step - loss: 0.2753 - val_loss: 0.3316\n",
            "Epoch 5/20\n",
            "500/500 [==============================] - 13s 26ms/step - loss: 0.2591 - val_loss: 0.3495\n",
            "Epoch 6/20\n",
            "500/500 [==============================] - 13s 26ms/step - loss: 0.2490 - val_loss: 0.3220\n",
            "Epoch 7/20\n",
            "500/500 [==============================] - 13s 25ms/step - loss: 0.2421 - val_loss: 0.3579\n",
            "Epoch 8/20\n",
            "500/500 [==============================] - 13s 25ms/step - loss: 0.2353 - val_loss: 0.3585\n",
            "Epoch 9/20\n",
            "500/500 [==============================] - 13s 26ms/step - loss: 0.2324 - val_loss: 0.3155\n",
            "Epoch 10/20\n",
            "500/500 [==============================] - 13s 27ms/step - loss: 0.2286 - val_loss: 0.3248\n",
            "Epoch 11/20\n",
            "500/500 [==============================] - 13s 26ms/step - loss: 0.2219 - val_loss: 0.3149\n",
            "Epoch 12/20\n",
            "500/500 [==============================] - 13s 26ms/step - loss: 0.2184 - val_loss: 0.3248\n",
            "Epoch 13/20\n",
            "500/500 [==============================] - 13s 26ms/step - loss: 0.2201 - val_loss: 0.3310\n",
            "Epoch 14/20\n",
            "500/500 [==============================] - 13s 26ms/step - loss: 0.2133 - val_loss: 0.3545\n",
            "Epoch 15/20\n",
            "500/500 [==============================] - 13s 26ms/step - loss: 0.2135 - val_loss: 0.3184\n",
            "Epoch 16/20\n",
            "500/500 [==============================] - 13s 26ms/step - loss: 0.2092 - val_loss: 0.3429\n",
            "Epoch 17/20\n",
            "500/500 [==============================] - 13s 26ms/step - loss: 0.2091 - val_loss: 0.3245\n",
            "Epoch 18/20\n",
            "500/500 [==============================] - 13s 26ms/step - loss: 0.2068 - val_loss: 0.3280\n",
            "Epoch 19/20\n",
            "500/500 [==============================] - 13s 26ms/step - loss: 0.2025 - val_loss: 0.3493\n",
            "Epoch 20/20\n",
            "500/500 [==============================] - 13s 26ms/step - loss: 0.2026 - val_loss: 0.3289\n"
          ],
          "name": "stdout"
        }
      ]
    },
    {
      "cell_type": "code",
      "metadata": {
        "colab": {
          "base_uri": "https://localhost:8080/",
          "height": 300
        },
        "id": "XDy6QlFg7BLL",
        "outputId": "7deb8d49-cb6f-4f39-c3d3-fa1fb6be44c6"
      },
      "source": [
        "# 결과 그래프 그리기\r\n",
        "import matplotlib.pyplot as plt\r\n",
        "\r\n",
        "loss = history.history['loss']\r\n",
        "val_loss = history.history['val_loss']\r\n",
        "\r\n",
        "epochs = range(1, len(loss) + 1)\r\n",
        "\r\n",
        "plt.figure()\r\n",
        "\r\n",
        "plt.plot(epochs, loss, 'bo', label = 'Training loss')\r\n",
        "plt.plot(epochs, val_loss, 'b', label = 'Validation loss')\r\n",
        "plt.title('Training and validation loss')\r\n",
        "plt.legend()"
      ],
      "execution_count": 39,
      "outputs": [
        {
          "output_type": "execute_result",
          "data": {
            "text/plain": [
              "<matplotlib.legend.Legend at 0x7f9a6e251208>"
            ]
          },
          "metadata": {
            "tags": []
          },
          "execution_count": 39
        },
        {
          "output_type": "display_data",
          "data": {
            "image/png": "[encoded data removed]",
            "text/plain": [
              "<Figure size 432x288 with 1 Axes>"
            ]
          },
          "metadata": {
            "tags": [],
            "needs_background": "light"
          }
        }
      ]
    },
    {
      "cell_type": "markdown",
      "metadata": {
        "id": "9MwVWfob7a0u"
      },
      "source": [
        "일부 검증 손실은 학습을 사용하지 않은 기준점에 가깝지만 안정적이지 못함  \r\n",
        "우리가 적용한 상식에는 머신 러닝 모델이 찾지 못한 핵심 정보가 많음  \r\n",
        "\r\n"
      ]
    },
    {
      "cell_type": "markdown",
      "metadata": {
        "id": "U2iPu93F9ZIC"
      },
      "source": [
        "### 첫 번째 순환 신경망\r\n",
        "첫 번째 완전 연결 네트워크는 잘 작동하지 않음  \r\n",
        "시계열 데이터를 펼쳐서 데이터의 시간 개념을 잃은 것으로 보임  \r\n",
        "이번엔 펼치지 않고 인과 관계와 순서가 의미 있는 시퀀스 데이터를 사용 해 적용  \r\n",
        "\r\n",
        "이번에 사용할 층은 GRU로  \r\n",
        "LSTM과 같은 원리로 작용하지만 계산 비용이 덜 듦"
      ]
    },
    {
      "cell_type": "code",
      "metadata": {
        "colab": {
          "base_uri": "https://localhost:8080/"
        },
        "id": "RGRYsvOQ-CiA",
        "outputId": "9b0bd9d6-caae-49a9-9c24-54a1d109a8d7"
      },
      "source": [
        "# GRU를 사용한 모델을 훈련하고 평가하기\r\n",
        "from keras.models import Sequential\r\n",
        "from keras import layers\r\n",
        "from keras.optimizers import RMSprop\r\n",
        "\r\n",
        "model = Sequential()\r\n",
        "model.add(layers.GRU(32, input_shape = (None, float_data.shape[-1])))\r\n",
        "model.add(layers.Dense(1))\r\n",
        "\r\n",
        "model.compile(optimizer = RMSprop(),\r\n",
        "              loss = 'mae')\r\n",
        "\r\n",
        "history = model.fit_generator(train_gen,\r\n",
        "                              steps_per_epoch = 500,\r\n",
        "                              epochs = 20,\r\n",
        "                              validation_data = val_gen,\r\n",
        "                              validation_steps = val_steps)"
      ],
      "execution_count": 12,
      "outputs": [
        {
          "output_type": "stream",
          "text": [
            "/usr/local/lib/python3.6/dist-packages/tensorflow/python/keras/engine/training.py:1844: UserWarning: `Model.fit_generator` is deprecated and will be removed in a future version. Please use `Model.fit`, which supports generators.\n",
            "  warnings.warn('`Model.fit_generator` is deprecated and '\n"
          ],
          "name": "stderr"
        },
        {
          "output_type": "stream",
          "text": [
            "Epoch 1/20\n",
            "500/500 [==============================] - 24s 33ms/step - loss: 0.3371 - val_loss: 0.2702\n",
            "Epoch 2/20\n",
            "500/500 [==============================] - 16s 33ms/step - loss: 0.2850 - val_loss: 0.2685\n",
            "Epoch 3/20\n",
            "500/500 [==============================] - 16s 32ms/step - loss: 0.2796 - val_loss: 0.2630\n",
            "Epoch 4/20\n",
            "500/500 [==============================] - 16s 31ms/step - loss: 0.2722 - val_loss: 0.2620\n",
            "Epoch 5/20\n",
            "500/500 [==============================] - 16s 31ms/step - loss: 0.2707 - val_loss: 0.2620\n",
            "Epoch 6/20\n",
            "500/500 [==============================] - 16s 32ms/step - loss: 0.2642 - val_loss: 0.2584\n",
            "Epoch 7/20\n",
            "500/500 [==============================] - 16s 32ms/step - loss: 0.2598 - val_loss: 0.2641\n",
            "Epoch 8/20\n",
            "500/500 [==============================] - 16s 31ms/step - loss: 0.2554 - val_loss: 0.2652\n",
            "Epoch 9/20\n",
            "500/500 [==============================] - 16s 32ms/step - loss: 0.2521 - val_loss: 0.2709\n",
            "Epoch 10/20\n",
            "500/500 [==============================] - 16s 32ms/step - loss: 0.2461 - val_loss: 0.2706\n",
            "Epoch 11/20\n",
            "500/500 [==============================] - 16s 32ms/step - loss: 0.2423 - val_loss: 0.2746\n",
            "Epoch 12/20\n",
            "500/500 [==============================] - 16s 32ms/step - loss: 0.2383 - val_loss: 0.2742\n",
            "Epoch 13/20\n",
            "500/500 [==============================] - 16s 31ms/step - loss: 0.2330 - val_loss: 0.2820\n",
            "Epoch 14/20\n",
            "500/500 [==============================] - 16s 31ms/step - loss: 0.2319 - val_loss: 0.2825\n",
            "Epoch 15/20\n",
            "500/500 [==============================] - 16s 32ms/step - loss: 0.2256 - val_loss: 0.2851\n",
            "Epoch 16/20\n",
            "500/500 [==============================] - 16s 33ms/step - loss: 0.2223 - val_loss: 0.2896\n",
            "Epoch 17/20\n",
            "500/500 [==============================] - 16s 32ms/step - loss: 0.2205 - val_loss: 0.2910\n",
            "Epoch 18/20\n",
            "500/500 [==============================] - 16s 32ms/step - loss: 0.2170 - val_loss: 0.3027\n",
            "Epoch 19/20\n",
            "500/500 [==============================] - 16s 32ms/step - loss: 0.2149 - val_loss: 0.2974\n",
            "Epoch 20/20\n",
            "500/500 [==============================] - 16s 32ms/step - loss: 0.2116 - val_loss: 0.2987\n"
          ],
          "name": "stdout"
        }
      ]
    },
    {
      "cell_type": "code",
      "metadata": {
        "colab": {
          "base_uri": "https://localhost:8080/",
          "height": 300
        },
        "id": "04xFh2OC_XBl",
        "outputId": "e38d2a88-6b4b-4319-ea1c-e8953cb58735"
      },
      "source": [
        "# 결과 그래프 그리기\r\n",
        "import matplotlib.pyplot as plt\r\n",
        "\r\n",
        "loss = history.history['loss']\r\n",
        "val_loss = history.history['val_loss']\r\n",
        "\r\n",
        "epochs = range(1, len(loss) + 1)\r\n",
        "\r\n",
        "plt.figure()\r\n",
        "\r\n",
        "plt.plot(epochs, loss, 'bo', label = 'Training loss')\r\n",
        "plt.plot(epochs, val_loss, 'b', label = 'Validation loss')\r\n",
        "plt.title('Training and validation loss')\r\n",
        "plt.legend()"
      ],
      "execution_count": 13,
      "outputs": [
        {
          "output_type": "execute_result",
          "data": {
            "text/plain": [
              "<matplotlib.legend.Legend at 0x7fe9b024d9e8>"
            ]
          },
          "metadata": {
            "tags": []
          },
          "execution_count": 13
        },
        {
          "output_type": "display_data",
          "data": {
            "image/png": "[encoded data removed]",
            "text/plain": [
              "<Figure size 432x288 with 1 Axes>"
            ]
          },
          "metadata": {
            "tags": [],
            "needs_background": "light"
          }
        }
      ]
    },
    {
      "cell_type": "markdown",
      "metadata": {
        "id": "SLSslWScBcIo"
      },
      "source": [
        "일정 epoch를 지나면 검증 loss가 훈련 loss보다 증가 하여 차이가 벌어짐  \r\n"
      ]
    },
    {
      "cell_type": "markdown",
      "metadata": {
        "id": "TsF8U9MqBXdi"
      },
      "source": [
        "### 과대적합을 감소하기 위해 순환 드롭아웃 사용하기\r\n",
        "**드롭아웃 **  \r\n",
        "훈련 데이터를 층에 주입할 때 데이터에 있는 우연한 상관관계를 깨기 위해  \r\n",
        "입력 층의 유닛을 랜덤하게 끄는 기법\r\n",
        "\r\n",
        "하지만, 순환 층 이전에 드롭아웃을 적용하면 규제에 도움이 되지 않고 학습에 더 방해 됨  \r\n",
        "이를 보완하기 위해 동일한 드롭아웃을 모든 타임스텝에 적용  "
      ]
    },
    {
      "cell_type": "code",
      "metadata": {
        "colab": {
          "base_uri": "https://localhost:8080/"
        },
        "id": "pvHAcUvUBCcA",
        "outputId": "268acd9a-9ba5-4da9-f67a-b93d57ef6ec7"
      },
      "source": [
        "# 드롭아웃 규제된 GRU를 사용한 모델을 훈련하고 평가하기\r\n",
        "from keras.models import Sequential\r\n",
        "from keras import layers\r\n",
        "from keras.optimizers import RMSprop\r\n",
        "\r\n",
        "model = Sequential()\r\n",
        "model.add(layers.GRU(32,\r\n",
        "                     dropout = 0.2,\r\n",
        "                     recurrent_dropout = 0.2,\r\n",
        "                     input_shape = (None, float_data.shape[-1])))\r\n",
        "model.add(layers.Dense(1))\r\n",
        "\r\n",
        "model.compile(optimizer = RMSprop(),\r\n",
        "              loss = 'mae')\r\n",
        "\r\n",
        "history = model.fit_generator(train_gen,\r\n",
        "                              steps_per_epoch = 500,\r\n",
        "                              epochs = 40,\r\n",
        "                              validation_data = val_gen,\r\n",
        "                              validation_steps = val_steps)"
      ],
      "execution_count": 16,
      "outputs": [
        {
          "output_type": "stream",
          "text": [
            "WARNING:tensorflow:Layer gru_4 will not use cuDNN kernel since it doesn't meet the cuDNN kernel criteria. It will use generic GPU kernel as fallback when running on GPU\n",
            "Epoch 1/40\n"
          ],
          "name": "stdout"
        },
        {
          "output_type": "stream",
          "text": [
            "/usr/local/lib/python3.6/dist-packages/tensorflow/python/keras/engine/training.py:1844: UserWarning: `Model.fit_generator` is deprecated and will be removed in a future version. Please use `Model.fit`, which supports generators.\n",
            "  warnings.warn('`Model.fit_generator` is deprecated and '\n"
          ],
          "name": "stderr"
        },
        {
          "output_type": "stream",
          "text": [
            "500/500 [==============================] - 442s 880ms/step - loss: 0.3830 - val_loss: 0.2820\n",
            "Epoch 2/40\n",
            "500/500 [==============================] - 437s 875ms/step - loss: 0.3094 - val_loss: 0.2823\n",
            "Epoch 3/40\n",
            "500/500 [==============================] - 412s 824ms/step - loss: 0.3004 - val_loss: 0.2748\n",
            "Epoch 4/40\n",
            "500/500 [==============================] - 411s 822ms/step - loss: 0.2949 - val_loss: 0.2725\n",
            "Epoch 5/40\n",
            "500/500 [==============================] - 410s 820ms/step - loss: 0.2911 - val_loss: 0.2779\n",
            "Epoch 6/40\n",
            "500/500 [==============================] - 410s 821ms/step - loss: 0.2873 - val_loss: 0.2887\n",
            "Epoch 7/40\n",
            "500/500 [==============================] - 412s 825ms/step - loss: 0.2853 - val_loss: 0.2743\n",
            "Epoch 8/40\n",
            "500/500 [==============================] - 414s 828ms/step - loss: 0.2841 - val_loss: 0.2693\n",
            "Epoch 9/40\n",
            "500/500 [==============================] - 411s 822ms/step - loss: 0.2793 - val_loss: 0.2828\n",
            "Epoch 10/40\n",
            "500/500 [==============================] - 415s 831ms/step - loss: 0.2756 - val_loss: 0.2729\n",
            "Epoch 11/40\n",
            "500/500 [==============================] - 411s 822ms/step - loss: 0.2743 - val_loss: 0.2764\n",
            "Epoch 12/40\n",
            "500/500 [==============================] - 410s 819ms/step - loss: 0.2707 - val_loss: 0.2744\n",
            "Epoch 13/40\n",
            "500/500 [==============================] - 414s 828ms/step - loss: 0.2685 - val_loss: 0.2782\n",
            "Epoch 14/40\n",
            "500/500 [==============================] - 415s 829ms/step - loss: 0.2683 - val_loss: 0.2810\n",
            "Epoch 15/40\n",
            "500/500 [==============================] - 407s 815ms/step - loss: 0.2641 - val_loss: 0.2833\n",
            "Epoch 16/40\n",
            "500/500 [==============================] - 410s 820ms/step - loss: 0.2639 - val_loss: 0.2813\n",
            "Epoch 17/40\n",
            "500/500 [==============================] - 407s 815ms/step - loss: 0.2593 - val_loss: 0.2822\n",
            "Epoch 18/40\n",
            "500/500 [==============================] - 409s 818ms/step - loss: 0.2579 - val_loss: 0.2828\n",
            "Epoch 19/40\n",
            "500/500 [==============================] - 408s 817ms/step - loss: 0.2583 - val_loss: 0.2869\n",
            "Epoch 20/40\n",
            "500/500 [==============================] - 409s 817ms/step - loss: 0.2541 - val_loss: 0.2924\n",
            "Epoch 21/40\n",
            "500/500 [==============================] - 406s 813ms/step - loss: 0.2522 - val_loss: 0.2878\n",
            "Epoch 22/40\n",
            "500/500 [==============================] - 408s 817ms/step - loss: 0.2509 - val_loss: 0.2936\n",
            "Epoch 23/40\n",
            "500/500 [==============================] - 406s 812ms/step - loss: 0.2486 - val_loss: 0.2965\n",
            "Epoch 24/40\n",
            "500/500 [==============================] - 412s 824ms/step - loss: 0.2483 - val_loss: 0.2918\n",
            "Epoch 25/40\n",
            "500/500 [==============================] - 415s 830ms/step - loss: 0.2455 - val_loss: 0.2971\n",
            "Epoch 26/40\n",
            "500/500 [==============================] - 408s 816ms/step - loss: 0.2445 - val_loss: 0.3002\n",
            "Epoch 27/40\n",
            "500/500 [==============================] - 407s 814ms/step - loss: 0.2431 - val_loss: 0.2976\n",
            "Epoch 28/40\n",
            "500/500 [==============================] - 406s 812ms/step - loss: 0.2399 - val_loss: 0.3018\n",
            "Epoch 29/40\n",
            "500/500 [==============================] - 408s 817ms/step - loss: 0.2405 - val_loss: 0.3031\n",
            "Epoch 30/40\n",
            "500/500 [==============================] - 406s 813ms/step - loss: 0.2377 - val_loss: 0.3050\n",
            "Epoch 31/40\n",
            "500/500 [==============================] - 410s 821ms/step - loss: 0.2355 - val_loss: 0.3030\n",
            "Epoch 32/40\n",
            "500/500 [==============================] - 408s 816ms/step - loss: 0.2354 - val_loss: 0.3025\n",
            "Epoch 33/40\n",
            "500/500 [==============================] - 410s 820ms/step - loss: 0.2341 - val_loss: 0.3089\n",
            "Epoch 34/40\n",
            "500/500 [==============================] - 408s 817ms/step - loss: 0.2332 - val_loss: 0.3024\n",
            "Epoch 35/40\n",
            "500/500 [==============================] - 401s 803ms/step - loss: 0.2306 - val_loss: 0.3012\n",
            "Epoch 36/40\n",
            "500/500 [==============================] - 416s 833ms/step - loss: 0.2312 - val_loss: 0.3085\n",
            "Epoch 37/40\n",
            "500/500 [==============================] - 416s 832ms/step - loss: 0.2295 - val_loss: 0.3135\n",
            "Epoch 38/40\n",
            "500/500 [==============================] - 412s 825ms/step - loss: 0.2305 - val_loss: 0.3143\n",
            "Epoch 39/40\n",
            "500/500 [==============================] - 409s 819ms/step - loss: 0.2259 - val_loss: 0.3171\n",
            "Epoch 40/40\n",
            "500/500 [==============================] - 413s 825ms/step - loss: 0.2249 - val_loss: 0.3206\n"
          ],
          "name": "stdout"
        }
      ]
    },
    {
      "cell_type": "markdown",
      "metadata": {
        "id": "t8do6ijeDUfr"
      },
      "source": [
        "dropout : 층의 입력에 대한 드롭아웃 비율을 정하는 부동 소수 값  \r\n",
        "recurrent_dropout : 순환 상태의 드롭아웃 비율"
      ]
    },
    {
      "cell_type": "code",
      "metadata": {
        "colab": {
          "base_uri": "https://localhost:8080/",
          "height": 300
        },
        "id": "LC8EDplTDjGo",
        "outputId": "54c398b2-2dab-436e-b634-0e0deb07bf01"
      },
      "source": [
        "loss = history.history['loss']\r\n",
        "val_loss = history.history['val_loss']\r\n",
        "\r\n",
        "epochs = range(1, len(loss) + 1)\r\n",
        "\r\n",
        "plt.figure()\r\n",
        "\r\n",
        "plt.plot(epochs, loss, 'bo', label = 'Training loss')\r\n",
        "plt.plot(epochs, val_loss, 'b', label = 'Validation loss')\r\n",
        "plt.title('Training and validation loss')\r\n",
        "plt.legend()"
      ],
      "execution_count": 17,
      "outputs": [
        {
          "output_type": "execute_result",
          "data": {
            "text/plain": [
              "<matplotlib.legend.Legend at 0x7fe95643a7f0>"
            ]
          },
          "metadata": {
            "tags": []
          },
          "execution_count": 17
        },
        {
          "output_type": "display_data",
          "data": {
            "image/png": "[encoded data removed]",
            "text/plain": [
              "<Figure size 432x288 with 1 Axes>"
            ]
          },
          "metadata": {
            "tags": [],
            "needs_background": "light"
          }
        }
      ]
    },
    {
      "cell_type": "markdown",
      "metadata": {
        "id": "hcvLYgrXDCZ1"
      },
      "source": [
        "이전 모델에 비해 과대적합 일어나는 속도가 줄긴 했지만,  \r\n",
        "여전히 존재 함  \r\n",
        "이땐 드롭아웃 비율을 높여 진행해보면 좋을 듯  "
      ]
    },
    {
      "cell_type": "code",
      "metadata": {
        "colab": {
          "base_uri": "https://localhost:8080/"
        },
        "id": "J4c3jfI6Dp4a",
        "outputId": "2622d880-fa8c-4c71-8f1b-f080cbfbb0d5"
      },
      "source": [
        "# 드롭아웃 규제된 GRU를 사용한 모델을 훈련하고 평가하기\r\n",
        "from keras.models import Sequential\r\n",
        "from keras import layers\r\n",
        "from keras.optimizers import RMSprop\r\n",
        "\r\n",
        "model = Sequential()\r\n",
        "model.add(layers.GRU(32,\r\n",
        "                     dropout = 0.2,\r\n",
        "                     recurrent_dropout = 0.5,\r\n",
        "                     input_shape = (None, float_data.shape[-1])))\r\n",
        "model.add(layers.Dense(1))\r\n",
        "\r\n",
        "model.compile(optimizer = RMSprop(),\r\n",
        "              loss = 'mae')\r\n",
        "\r\n",
        "history = model.fit_generator(train_gen,\r\n",
        "                              steps_per_epoch = 500,\r\n",
        "                              epochs = 5,\r\n",
        "                              validation_data = val_gen,\r\n",
        "                              validation_steps = val_steps)"
      ],
      "execution_count": 13,
      "outputs": [
        {
          "output_type": "stream",
          "text": [
            "WARNING:tensorflow:Layer gru will not use cuDNN kernel since it doesn't meet the cuDNN kernel criteria. It will use generic GPU kernel as fallback when running on GPU\n"
          ],
          "name": "stdout"
        },
        {
          "output_type": "stream",
          "text": [
            "/usr/local/lib/python3.6/dist-packages/tensorflow/python/keras/engine/training.py:1844: UserWarning: `Model.fit_generator` is deprecated and will be removed in a future version. Please use `Model.fit`, which supports generators.\n",
            "  warnings.warn('`Model.fit_generator` is deprecated and '\n"
          ],
          "name": "stderr"
        },
        {
          "output_type": "stream",
          "text": [
            "Epoch 1/5\n",
            "500/500 [==============================] - 412s 820ms/step - loss: 0.3685 - val_loss: 0.2772\n",
            "Epoch 2/5\n",
            "500/500 [==============================] - 409s 818ms/step - loss: 0.3128 - val_loss: 0.2787\n",
            "Epoch 3/5\n",
            "500/500 [==============================] - 409s 819ms/step - loss: 0.3051 - val_loss: 0.2764\n",
            "Epoch 4/5\n",
            "500/500 [==============================] - 407s 815ms/step - loss: 0.3034 - val_loss: 0.2758\n",
            "Epoch 5/5\n",
            "500/500 [==============================] - 411s 822ms/step - loss: 0.2952 - val_loss: 0.2788\n"
          ],
          "name": "stdout"
        }
      ]
    },
    {
      "cell_type": "code",
      "metadata": {
        "colab": {
          "base_uri": "https://localhost:8080/",
          "height": 299
        },
        "id": "BYmxya6DECSK",
        "outputId": "12a9a257-3f29-4488-9479-f0a84660a3ce"
      },
      "source": [
        "import matplotlib.pyplot as plt\r\n",
        "\r\n",
        "loss = history.history['loss']\r\n",
        "val_loss = history.history['val_loss']\r\n",
        "\r\n",
        "epochs = range(1, len(loss) + 1)\r\n",
        "\r\n",
        "plt.figure()\r\n",
        "\r\n",
        "plt.plot(epochs, loss, 'bo', label = 'Training loss')\r\n",
        "plt.plot(epochs, val_loss, 'b', label = 'Validation loss')\r\n",
        "plt.title('Training and validation loss')\r\n",
        "plt.legend()"
      ],
      "execution_count": 14,
      "outputs": [
        {
          "output_type": "execute_result",
          "data": {
            "text/plain": [
              "<matplotlib.legend.Legend at 0x7f89f65b4c18>"
            ]
          },
          "metadata": {
            "tags": []
          },
          "execution_count": 14
        },
        {
          "output_type": "display_data",
          "data": {
            "image/png": "[encoded data removed]",
            "text/plain": [
              "<Figure size 432x288 with 1 Axes>"
            ]
          },
          "metadata": {
            "tags": [],
            "needs_background": "light"
          }
        }
      ]
    },
    {
      "cell_type": "markdown",
      "metadata": {
        "id": "4cQwScnyKhnO"
      },
      "source": [
        "시간이 많이 걸려 5번 밖에 돌리지 못했지만,  \r\n",
        "아직 까지는 과대적합이 일어나지 않았음  \r\n",
        "\r\n",
        "충분한 epoch를 이용하고도 과대적합이 일어나지 않았을 경우엔  \r\n",
        "네트워크의 용량을 늘리는 것이 좋음\r\n",
        "- 유닛의 수를 늘림\r\n",
        "- 층을 늘림"
      ]
    },
    {
      "cell_type": "markdown",
      "metadata": {
        "id": "RhmqLJViD84k"
      },
      "source": [
        "### 스태킹 순환 층\r\n",
        "과대적합은 없지만 성능상 병목이 있는 것 같으므로 네트워크 용량을 늘려야 함  \r\n",
        "이땐, 과대적합이 일어날 때 까지 네트워크의 용량을 늘리는 것이 좋음  "
      ]
    },
    {
      "cell_type": "code",
      "metadata": {
        "id": "Fn5lxeuEI4BS"
      },
      "source": [
        "# 드롭아웃으로 규제하고 스태킹한 GRU 모델을 훈련하고 평가하기\r\n",
        "from keras.models import Sequential\r\n",
        "from keras import layers\r\n",
        "from keras.optimizers import RMSprop\r\n",
        "\r\n",
        "model = Sequential()\r\n",
        "model.add(layers.GRU(32,\r\n",
        "                     dropout = 0.1,\r\n",
        "                     recurrent_dropout = 0.5,\r\n",
        "                     return_sequences = True,\r\n",
        "                     input_shape = (None, float_data.shape[-1])))\r\n",
        "model.add(layers.GRU(64, activation = 'relu',\r\n",
        "                     dropout = 0.1,\r\n",
        "                     recurrent_dropout = 0.5))\r\n",
        "model.add(layers.Dense(1))\r\n",
        "model.compile(optimizer = RMSprop(),\r\n",
        "              loss = 'mae')\r\n",
        "\r\n",
        "history = model.fit_generator(train_gen, \r\n",
        "                              steps_per_epoch = 500,\r\n",
        "                              epochs = 40,\r\n",
        "                              validation_data = val_gen,\r\n",
        "                              validation_steps = val_steps)"
      ],
      "execution_count": null,
      "outputs": []
    },
    {
      "cell_type": "markdown",
      "metadata": {
        "id": "FVjeAG0FGQlZ"
      },
      "source": [
        "층을 추가하여 성능을 조금 향상시켰지만 크지는 않음  \r\n",
        "\r\n",
        "여기서 두가지 결론을 낼 수 있음\r\n",
        "- 아직 충분히 과대적합을 만들지 못해 검증 손실을 향상하기 위해서 층의 크기를 늘리기. 하지만, 그만큼 많은 비용을 필요로하기에 시간이 많이 걸림\r\n",
        "- 층을 추가한 만큼 도움이 되지 않았으므로, 네트워크의 용량을 늘리는 것이 도움이 되지 않을 수 있음"
      ]
    },
    {
      "cell_type": "markdown",
      "metadata": {
        "id": "UDq_JN5bGzVV"
      },
      "source": [
        "### 양뱡향 RNN 사용하기\r\n",
        "**시퀀스를 양쪽 방향으로 처리하는 RNN 모델**  \r\n",
        "\r\n",
        "양방향으로 RNN을 처리하여 단방향 RNN이 놓치기 쉬운 패턴을 감지할 수 있음"
      ]
    },
    {
      "cell_type": "code",
      "metadata": {
        "id": "5TM2ZNS4i3xy"
      },
      "source": [
        "# 거꾸로 된 시퀀스를 사용한 LSTM을 훈련하고 평가하기\r\n",
        "from keras.datasets import imdb\r\n",
        "from keras.preprocessing import sequence\r\n",
        "from keras import layers\r\n",
        "from keras.models import Sequential\r\n",
        "\r\n",
        "max_features = 10000\r\n",
        "maxlen = 500\r\n",
        "\r\n",
        "(x_train, y_train), (x_test, y_test) = imdb.load_data(num_words = max_features)\r\n",
        "\r\n",
        "x_train = [x[::-1] for x in x_train]\r\n",
        "x_test = [x[::-1] for x in x_test]\r\n",
        "\r\n",
        "x_train = sequence.pad_sequences(x_train, maxlen = maxlen)\r\n",
        "x_test = sequence.pad_sequences(x_test, maxlen = maxlen)\r\n",
        "\r\n",
        "model = Sequential()\r\n",
        "model.add(layers.Embedding(max_features, 128))\r\n",
        "model.add(layers.LSTM(32))\r\n",
        "model.add(layers.Dense(1, activation = 'sigmoid'))\r\n",
        "\r\n",
        "model.compile(optimizer = 'rmsprop',\r\n",
        "              loss = 'binary_crossentropy',\r\n",
        "              metrics = ['acc'])\r\n",
        "\r\n",
        "history = model.fit(x_train,\r\n",
        "                    y_train,\r\n",
        "                    epochs = 10,\r\n",
        "                    batch_size = 128,\r\n",
        "                    validation_split = 0.2)"
      ],
      "execution_count": null,
      "outputs": []
    },
    {
      "cell_type": "markdown",
      "metadata": {
        "id": "DVrJbQ24kBT9"
      },
      "source": [
        "위 모델은 시간 순서대로 처리했을 때랑 거의 동일하게 작동 됨  \r\n",
        "위 모델은 시간 순서대로 처리했을 때랑 거의 동일하게 작동 됨  \r\n",
        "이는 언어를 이해하는 데 단어의 순서가 중요하지만 결정적이지 않다는 가정을 뒷받침  "
      ]
    },
    {
      "cell_type": "code",
      "metadata": {
        "id": "8ekR-gFnkTc8"
      },
      "source": [
        "# 양방향 LSTM을 훈련하고 평가하기\r\n",
        "model = Sequential()\r\n",
        "model.add(layers.Embedding(max_features, 32))\r\n",
        "model.add(layers.Bidirectional(layers.LSTM(32)))\r\n",
        "model.add(layers.Dense(1, activation = 'sigmoid'))\r\n",
        "\r\n",
        "model.compile(optimizer = 'rmsprop',\r\n",
        "              loss = 'binary_crossentropy',\r\n",
        "              metrics = ['acc'])\r\n",
        "history = model.fit(x_train,\r\n",
        "                    y_train,\r\n",
        "                    batch_size = 128,\r\n",
        "                    validation_split = 0.2)"
      ],
      "execution_count": null,
      "outputs": []
    },
    {
      "cell_type": "markdown",
      "metadata": {
        "id": "1xHra7CDkxX5"
      },
      "source": [
        ""
      ]
    }
  ]
}